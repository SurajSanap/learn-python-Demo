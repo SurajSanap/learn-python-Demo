{
 "cells": [
  {
   "cell_type": "code",
   "execution_count": 1,
   "id": "70f09a3e-3c25-4fb6-a6b0-29db33489df4",
   "metadata": {},
   "outputs": [],
   "source": [
    "import warnings\n",
    "warnings.filterwarnings(\"ignore\")\n",
    "\n",
    "import pandas as pd\n",
    "import numpy as np\n",
    "import json\n",
    "import nltk\n",
    "import csv\n",
    "import re\n",
    "import matplotlib.pyplot as plt\n",
    "import seaborn as sns\n",
    "from tqdm import tqdm\n",
    "import sklearn\n",
    "from sklearn.feature_extraction.text import TfidfVectorizer\n",
    "from sklearn.feature_extraction.text import CountVectorizer\n",
    "from sklearn.model_selection import train_test_split\n",
    "from sklearn.model_selection import cross_validate\n",
    "from sklearn.preprocessing import MultiLabelBinarizer\n",
    "from sklearn.ensemble import RandomForestClassifier\n",
    "from sklearn.metrics import confusion_matrix, f1_score, precision_score, recall_score, make_scorer, accuracy_score, classification_report\n",
    "from sklearn.linear_model import LogisticRegression\n",
    "from sklearn.multiclass import OneVsRestClassifier\n",
    "from sklearn.tree import DecisionTreeClassifier\n",
    "from sklearn.decomposition import TruncatedSVD\n",
    "from nltk.corpus import stopwords\n",
    "from nltk.stem import WordNetLemmatizer\n",
    "import tensorflow as tf\n",
    "from tensorflow import keras\n",
    "import scipy\n",
    "import scipy.stats as stats\n",
    "from keras.optimizers import Adam, SGD\n",
    "import itertools\n",
    "import gensim\n",
    "import gensim.downloader as gensim_api\n",
    "from ast import literal_eval\n"
   ]
  },
  {
   "cell_type": "code",
   "execution_count": 2,
   "id": "86241191-a3e8-40a2-9c84-1246e3df3f13",
   "metadata": {},
   "outputs": [
    {
     "name": "stderr",
     "output_type": "stream",
     "text": [
      "[nltk_data] Downloading package stopwords to\n",
      "[nltk_data]     C:\\Users\\Darkling\\AppData\\Roaming\\nltk_data...\n",
      "[nltk_data]   Package stopwords is already up-to-date!\n",
      "[nltk_data] Downloading package wordnet to\n",
      "[nltk_data]     C:\\Users\\Darkling\\AppData\\Roaming\\nltk_data...\n",
      "[nltk_data]   Package wordnet is already up-to-date!\n"
     ]
    },
    {
     "data": {
      "text/plain": [
       "True"
      ]
     },
     "execution_count": 2,
     "metadata": {},
     "output_type": "execute_result"
    }
   ],
   "source": [
    "nltk.download('stopwords')\n",
    "nltk.download('wordnet')"
   ]
  },
  {
   "cell_type": "code",
   "execution_count": 3,
   "id": "1d7dfcb0-e5b5-4dce-82b5-a0b8331aac70",
   "metadata": {},
   "outputs": [
    {
     "name": "stderr",
     "output_type": "stream",
     "text": [
      "[nltk_data] Downloading package omw-1.4 to\n",
      "[nltk_data]     C:\\Users\\Darkling\\AppData\\Roaming\\nltk_data...\n",
      "[nltk_data]   Package omw-1.4 is already up-to-date!\n"
     ]
    },
    {
     "data": {
      "text/plain": [
       "True"
      ]
     },
     "execution_count": 3,
     "metadata": {},
     "output_type": "execute_result"
    }
   ],
   "source": [
    "nltk.download('omw-1.4')"
   ]
  },
  {
   "cell_type": "markdown",
   "id": "20fdfe0f-2d27-4aeb-a219-59569e6f9d45",
   "metadata": {},
   "source": [
    "# Reading the Data"
   ]
  },
  {
   "cell_type": "markdown",
   "id": "34129477-ab2f-4a20-8bae-6faaacb80a95",
   "metadata": {},
   "source": [
    "We're going to read the metadata file that is a part of our summaries dataset"
   ]
  },
  {
   "cell_type": "code",
   "execution_count": 4,
   "id": "4fa6b0f5-d4d1-44a9-bfee-1d572da7eec5",
   "metadata": {},
   "outputs": [
    {
     "data": {
      "text/html": [
       "<div>\n",
       "<style scoped>\n",
       "    .dataframe tbody tr th:only-of-type {\n",
       "        vertical-align: middle;\n",
       "    }\n",
       "\n",
       "    .dataframe tbody tr th {\n",
       "        vertical-align: top;\n",
       "    }\n",
       "\n",
       "    .dataframe thead th {\n",
       "        text-align: right;\n",
       "    }\n",
       "</style>\n",
       "<table border=\"1\" class=\"dataframe\">\n",
       "  <thead>\n",
       "    <tr style=\"text-align: right;\">\n",
       "      <th></th>\n",
       "      <th>0</th>\n",
       "      <th>1</th>\n",
       "      <th>2</th>\n",
       "      <th>3</th>\n",
       "      <th>4</th>\n",
       "      <th>5</th>\n",
       "      <th>6</th>\n",
       "      <th>7</th>\n",
       "      <th>8</th>\n",
       "    </tr>\n",
       "  </thead>\n",
       "  <tbody>\n",
       "    <tr>\n",
       "      <th>0</th>\n",
       "      <td>975900</td>\n",
       "      <td>/m/03vyhn</td>\n",
       "      <td>Ghosts of Mars</td>\n",
       "      <td>2001-08-24</td>\n",
       "      <td>14010832.0</td>\n",
       "      <td>98.0</td>\n",
       "      <td>{\"/m/02h40lc\": \"English Language\"}</td>\n",
       "      <td>{\"/m/09c7w0\": \"United States of America\"}</td>\n",
       "      <td>{\"/m/01jfsb\": \"Thriller\", \"/m/06n90\": \"Science...</td>\n",
       "    </tr>\n",
       "    <tr>\n",
       "      <th>1</th>\n",
       "      <td>3196793</td>\n",
       "      <td>/m/08yl5d</td>\n",
       "      <td>Getting Away with Murder: The JonBenét Ramsey ...</td>\n",
       "      <td>2000-02-16</td>\n",
       "      <td>NaN</td>\n",
       "      <td>95.0</td>\n",
       "      <td>{\"/m/02h40lc\": \"English Language\"}</td>\n",
       "      <td>{\"/m/09c7w0\": \"United States of America\"}</td>\n",
       "      <td>{\"/m/02n4kr\": \"Mystery\", \"/m/03bxz7\": \"Biograp...</td>\n",
       "    </tr>\n",
       "    <tr>\n",
       "      <th>2</th>\n",
       "      <td>28463795</td>\n",
       "      <td>/m/0crgdbh</td>\n",
       "      <td>Brun bitter</td>\n",
       "      <td>1988</td>\n",
       "      <td>NaN</td>\n",
       "      <td>83.0</td>\n",
       "      <td>{\"/m/05f_3\": \"Norwegian Language\"}</td>\n",
       "      <td>{\"/m/05b4w\": \"Norway\"}</td>\n",
       "      <td>{\"/m/0lsxr\": \"Crime Fiction\", \"/m/07s9rl0\": \"D...</td>\n",
       "    </tr>\n",
       "    <tr>\n",
       "      <th>3</th>\n",
       "      <td>9363483</td>\n",
       "      <td>/m/0285_cd</td>\n",
       "      <td>White Of The Eye</td>\n",
       "      <td>1987</td>\n",
       "      <td>NaN</td>\n",
       "      <td>110.0</td>\n",
       "      <td>{\"/m/02h40lc\": \"English Language\"}</td>\n",
       "      <td>{\"/m/07ssc\": \"United Kingdom\"}</td>\n",
       "      <td>{\"/m/01jfsb\": \"Thriller\", \"/m/0glj9q\": \"Erotic...</td>\n",
       "    </tr>\n",
       "    <tr>\n",
       "      <th>4</th>\n",
       "      <td>261236</td>\n",
       "      <td>/m/01mrr1</td>\n",
       "      <td>A Woman in Flames</td>\n",
       "      <td>1983</td>\n",
       "      <td>NaN</td>\n",
       "      <td>106.0</td>\n",
       "      <td>{\"/m/04306rv\": \"German Language\"}</td>\n",
       "      <td>{\"/m/0345h\": \"Germany\"}</td>\n",
       "      <td>{\"/m/07s9rl0\": \"Drama\"}</td>\n",
       "    </tr>\n",
       "  </tbody>\n",
       "</table>\n",
       "</div>"
      ],
      "text/plain": [
       "          0           1                                                  2  \\\n",
       "0    975900   /m/03vyhn                                     Ghosts of Mars   \n",
       "1   3196793   /m/08yl5d  Getting Away with Murder: The JonBenét Ramsey ...   \n",
       "2  28463795  /m/0crgdbh                                        Brun bitter   \n",
       "3   9363483  /m/0285_cd                                   White Of The Eye   \n",
       "4    261236   /m/01mrr1                                  A Woman in Flames   \n",
       "\n",
       "            3           4      5                                   6  \\\n",
       "0  2001-08-24  14010832.0   98.0  {\"/m/02h40lc\": \"English Language\"}   \n",
       "1  2000-02-16         NaN   95.0  {\"/m/02h40lc\": \"English Language\"}   \n",
       "2        1988         NaN   83.0  {\"/m/05f_3\": \"Norwegian Language\"}   \n",
       "3        1987         NaN  110.0  {\"/m/02h40lc\": \"English Language\"}   \n",
       "4        1983         NaN  106.0   {\"/m/04306rv\": \"German Language\"}   \n",
       "\n",
       "                                           7  \\\n",
       "0  {\"/m/09c7w0\": \"United States of America\"}   \n",
       "1  {\"/m/09c7w0\": \"United States of America\"}   \n",
       "2                     {\"/m/05b4w\": \"Norway\"}   \n",
       "3             {\"/m/07ssc\": \"United Kingdom\"}   \n",
       "4                    {\"/m/0345h\": \"Germany\"}   \n",
       "\n",
       "                                                   8  \n",
       "0  {\"/m/01jfsb\": \"Thriller\", \"/m/06n90\": \"Science...  \n",
       "1  {\"/m/02n4kr\": \"Mystery\", \"/m/03bxz7\": \"Biograp...  \n",
       "2  {\"/m/0lsxr\": \"Crime Fiction\", \"/m/07s9rl0\": \"D...  \n",
       "3  {\"/m/01jfsb\": \"Thriller\", \"/m/0glj9q\": \"Erotic...  \n",
       "4                            {\"/m/07s9rl0\": \"Drama\"}  "
      ]
     },
     "execution_count": 4,
     "metadata": {},
     "output_type": "execute_result"
    }
   ],
   "source": [
    "data = pd.read_csv('MovieSummaries/movie.metadata.tsv', sep='\\t', header=None)\n",
    "data.head()"
   ]
  },
  {
   "cell_type": "code",
   "execution_count": 5,
   "id": "e86d877f-68f3-4354-9d61-0373af4c5b64",
   "metadata": {},
   "outputs": [
    {
     "name": "stderr",
     "output_type": "stream",
     "text": [
      "42303it [00:01, 22611.50it/s]\n"
     ]
    }
   ],
   "source": [
    "# read movie plots\n",
    "\n",
    "data.columns=['movie_id',1, 'movie_name',3,4,5,6,7, 'genre']\n",
    "plots=[]\n",
    "\n",
    "with open('MovieSummaries/plot_summaries.txt', 'r', encoding='utf-8') as file:\n",
    "    reader = csv.reader(file, dialect='excel-tab')\n",
    "    for row in tqdm(reader):\n",
    "        plots.append(row)"
   ]
  },
  {
   "cell_type": "code",
   "execution_count": 6,
   "id": "8244c075-63ed-45e2-803d-fdbc81e618ac",
   "metadata": {},
   "outputs": [
    {
     "name": "stdout",
     "output_type": "stream",
     "text": [
      "['23890098', \"Shlykov, a hard-working taxi driver and Lyosha, a saxophonist, develop a bizarre love-hate relationship, and despite their prejudices, realize they aren't so different after all.\"]\n",
      "['20663735', \"Poovalli Induchoodan  is sentenced for six years prison life for murdering his classmate. Induchoodan, the only son of Justice Maranchery Karunakara Menon  was framed in the case by Manapally Madhavan Nambiar  and his crony DYSP Sankaranarayanan  to take revenge on idealist judge Menon who had earlier given jail sentence to Manapally in a corruption case. Induchoodan, who had achieved top rank in Indian Civil Service loses the post and Manapally Sudheeran ([[Saikumar  enters the list of civil service trainees. We learn in flashback that it was Ramakrishnan  the son of Moopil Nair , who had actually killed his classmate. Six years passes by and Manapally Madhavan Nambiar, now a former state minister, is dead and Induchoodan, who is all rage at the gross injustice meted out to him - thus destroying his promising life, is released from prison. Induchoodan thwarts Manapally Pavithran  from performing the funeral rituals of Nambiar at Bharathapuzha. Many confrontations between Induchoodan and Manapally's henchmen follow. Induchoodan also falls in love with Anuradha ([[Aishwarya , the strong-willed and independent-minded daughter of Mooppil Nair. Justice Menon and his wife returns back to Kerala to stay with Induchoodan. There is an appearance of a girl named Indulekha ([[Kanaka , who claims to be the daughter of Justice Menon. Menon flatly refuses the claim and banishes her. Forced by circumstances and at the instigation and help of Manapally Pavithran, she reluctantly come out open with the claim. Induchoodan at first thrashes the protesters. But upon knowing the truth from Chandrabhanu his uncle, he accepts the task of her protection in the capacity as elder brother. Induchoodan decides to marry off Indulekha to his good friend Jayakrishnan . Induchoodan has a confrontation with his father and prods him to accept mistake and acknowledge the parentage of Indulekha. Menon ultimately regrets and goes on to confess to his daughter. The very next day, when Induchoodan returns to Poovally, Indulekha is found dead and Menon is accused of murdering her. The whole act was planned by Pavithran, who after killing Indulekha, forces Raman Nair  to testify against Menon in court. In court, Nandagopal Maarar , a close friend of Induchoodan and a famous supreme court lawyer, appears for Menon and manages to lay bare the murder plot and hidden intentions of other party . Menon is judged innocent of the crime by court. After confronting Pavithran and promising just retribution to the crime of killing Indulekha, Induchoodan returns to his father, who now shows remorse for all his actions including not believing in the innocence of his son. But while speaking to Induchoodan, Menon suffers a heart stroke and passes away. At Menon's funeral, Manapally Pavithran arrives to poke fun at Induchoodan and he also tries to carry out the postponed last rituals of his own father. Induchoodan interrupts the ritual and avenges for the death of his sister and father by severely injuring Pavithran. On his way back to peaceful life, Induchoodan accepts Anuradha as his life partner.\"]\n"
     ]
    }
   ],
   "source": [
    "#just checking our plots array to see whether it was read fine\n",
    "print(plots[0])\n",
    "print(plots[2])\n"
   ]
  },
  {
   "cell_type": "markdown",
   "id": "d91a0a53-4fc7-440c-a1f8-484e85cf13f4",
   "metadata": {},
   "source": [
    "# Arranging data into needed format"
   ]
  },
  {
   "cell_type": "markdown",
   "id": "841e311d-76fe-40cc-8c40-8d7db6e1dcec",
   "metadata": {},
   "source": [
    "## Converting the text file of Plots into a Data Frame"
   ]
  },
  {
   "cell_type": "code",
   "execution_count": 7,
   "id": "87f0b06d-e8ae-4fb5-8d56-05421c6ba3bb",
   "metadata": {},
   "outputs": [
    {
     "name": "stderr",
     "output_type": "stream",
     "text": [
      "100%|████████████████████████████████████████████████████████████████████████| 42303/42303 [00:00<00:00, 915889.67it/s]\n"
     ]
    }
   ],
   "source": [
    "movie_id=[]\n",
    "plot=[]\n",
    "\n",
    "for i in tqdm(plots):\n",
    "    movie_id.append(i[0])\n",
    "    plot.append(i[1])\n",
    "\n",
    "movies = pd.DataFrame({'movie_id':movie_id, 'synopsis':plot})"
   ]
  },
  {
   "cell_type": "code",
   "execution_count": 8,
   "id": "c75ab8ce-e52d-4283-a93a-850def8f8f2b",
   "metadata": {},
   "outputs": [
    {
     "data": {
      "text/html": [
       "<div>\n",
       "<style scoped>\n",
       "    .dataframe tbody tr th:only-of-type {\n",
       "        vertical-align: middle;\n",
       "    }\n",
       "\n",
       "    .dataframe tbody tr th {\n",
       "        vertical-align: top;\n",
       "    }\n",
       "\n",
       "    .dataframe thead th {\n",
       "        text-align: right;\n",
       "    }\n",
       "</style>\n",
       "<table border=\"1\" class=\"dataframe\">\n",
       "  <thead>\n",
       "    <tr style=\"text-align: right;\">\n",
       "      <th></th>\n",
       "      <th>movie_id</th>\n",
       "      <th>synopsis</th>\n",
       "    </tr>\n",
       "  </thead>\n",
       "  <tbody>\n",
       "    <tr>\n",
       "      <th>0</th>\n",
       "      <td>23890098</td>\n",
       "      <td>Shlykov, a hard-working taxi driver and Lyosha...</td>\n",
       "    </tr>\n",
       "    <tr>\n",
       "      <th>1</th>\n",
       "      <td>31186339</td>\n",
       "      <td>The nation of Panem consists of a wealthy Capi...</td>\n",
       "    </tr>\n",
       "    <tr>\n",
       "      <th>2</th>\n",
       "      <td>20663735</td>\n",
       "      <td>Poovalli Induchoodan  is sentenced for six yea...</td>\n",
       "    </tr>\n",
       "    <tr>\n",
       "      <th>3</th>\n",
       "      <td>2231378</td>\n",
       "      <td>The Lemon Drop Kid , a New York City swindler,...</td>\n",
       "    </tr>\n",
       "    <tr>\n",
       "      <th>4</th>\n",
       "      <td>595909</td>\n",
       "      <td>Seventh-day Adventist Church pastor Michael Ch...</td>\n",
       "    </tr>\n",
       "  </tbody>\n",
       "</table>\n",
       "</div>"
      ],
      "text/plain": [
       "   movie_id                                           synopsis\n",
       "0  23890098  Shlykov, a hard-working taxi driver and Lyosha...\n",
       "1  31186339  The nation of Panem consists of a wealthy Capi...\n",
       "2  20663735  Poovalli Induchoodan  is sentenced for six yea...\n",
       "3   2231378  The Lemon Drop Kid , a New York City swindler,...\n",
       "4    595909  Seventh-day Adventist Church pastor Michael Ch..."
      ]
     },
     "execution_count": 8,
     "metadata": {},
     "output_type": "execute_result"
    }
   ],
   "source": [
    "movies.head()"
   ]
  },
  {
   "cell_type": "markdown",
   "id": "05ab5775-d85e-46f0-acc8-f975819a2471",
   "metadata": {},
   "source": [
    "## Merging movie plots and genres"
   ]
  },
  {
   "cell_type": "code",
   "execution_count": 9,
   "id": "553ed20a-7824-47d6-9b9d-58e1b73ce6af",
   "metadata": {},
   "outputs": [
    {
     "data": {
      "text/html": [
       "<div>\n",
       "<style scoped>\n",
       "    .dataframe tbody tr th:only-of-type {\n",
       "        vertical-align: middle;\n",
       "    }\n",
       "\n",
       "    .dataframe tbody tr th {\n",
       "        vertical-align: top;\n",
       "    }\n",
       "\n",
       "    .dataframe thead th {\n",
       "        text-align: right;\n",
       "    }\n",
       "</style>\n",
       "<table border=\"1\" class=\"dataframe\">\n",
       "  <thead>\n",
       "    <tr style=\"text-align: right;\">\n",
       "      <th></th>\n",
       "      <th>movie_id</th>\n",
       "      <th>synopsis</th>\n",
       "      <th>movie_name</th>\n",
       "      <th>genre</th>\n",
       "    </tr>\n",
       "  </thead>\n",
       "  <tbody>\n",
       "    <tr>\n",
       "      <th>0</th>\n",
       "      <td>23890098</td>\n",
       "      <td>Shlykov, a hard-working taxi driver and Lyosha...</td>\n",
       "      <td>Taxi Blues</td>\n",
       "      <td>{\"/m/07s9rl0\": \"Drama\", \"/m/03q4nz\": \"World ci...</td>\n",
       "    </tr>\n",
       "    <tr>\n",
       "      <th>1</th>\n",
       "      <td>31186339</td>\n",
       "      <td>The nation of Panem consists of a wealthy Capi...</td>\n",
       "      <td>The Hunger Games</td>\n",
       "      <td>{\"/m/03btsm8\": \"Action/Adventure\", \"/m/06n90\":...</td>\n",
       "    </tr>\n",
       "    <tr>\n",
       "      <th>2</th>\n",
       "      <td>20663735</td>\n",
       "      <td>Poovalli Induchoodan  is sentenced for six yea...</td>\n",
       "      <td>Narasimham</td>\n",
       "      <td>{\"/m/04t36\": \"Musical\", \"/m/02kdv5l\": \"Action\"...</td>\n",
       "    </tr>\n",
       "    <tr>\n",
       "      <th>3</th>\n",
       "      <td>2231378</td>\n",
       "      <td>The Lemon Drop Kid , a New York City swindler,...</td>\n",
       "      <td>The Lemon Drop Kid</td>\n",
       "      <td>{\"/m/06qm3\": \"Screwball comedy\", \"/m/01z4y\": \"...</td>\n",
       "    </tr>\n",
       "    <tr>\n",
       "      <th>4</th>\n",
       "      <td>595909</td>\n",
       "      <td>Seventh-day Adventist Church pastor Michael Ch...</td>\n",
       "      <td>A Cry in the Dark</td>\n",
       "      <td>{\"/m/0lsxr\": \"Crime Fiction\", \"/m/07s9rl0\": \"D...</td>\n",
       "    </tr>\n",
       "  </tbody>\n",
       "</table>\n",
       "</div>"
      ],
      "text/plain": [
       "   movie_id                                           synopsis  \\\n",
       "0  23890098  Shlykov, a hard-working taxi driver and Lyosha...   \n",
       "1  31186339  The nation of Panem consists of a wealthy Capi...   \n",
       "2  20663735  Poovalli Induchoodan  is sentenced for six yea...   \n",
       "3   2231378  The Lemon Drop Kid , a New York City swindler,...   \n",
       "4    595909  Seventh-day Adventist Church pastor Michael Ch...   \n",
       "\n",
       "           movie_name                                              genre  \n",
       "0          Taxi Blues  {\"/m/07s9rl0\": \"Drama\", \"/m/03q4nz\": \"World ci...  \n",
       "1    The Hunger Games  {\"/m/03btsm8\": \"Action/Adventure\", \"/m/06n90\":...  \n",
       "2          Narasimham  {\"/m/04t36\": \"Musical\", \"/m/02kdv5l\": \"Action\"...  \n",
       "3  The Lemon Drop Kid  {\"/m/06qm3\": \"Screwball comedy\", \"/m/01z4y\": \"...  \n",
       "4   A Cry in the Dark  {\"/m/0lsxr\": \"Crime Fiction\", \"/m/07s9rl0\": \"D...  "
      ]
     },
     "execution_count": 9,
     "metadata": {},
     "output_type": "execute_result"
    }
   ],
   "source": [
    "data['movie_id']= data['movie_id'].astype(str)\n",
    "movies = pd.merge(movies, data[['movie_id', 'movie_name', 'genre']], on='movie_id')\n",
    "\n",
    "movies.head()"
   ]
  },
  {
   "cell_type": "markdown",
   "id": "d621b99b-778d-4ecf-b81e-3aee61c60469",
   "metadata": {},
   "source": [
    "## Converting Genres from JSON to List"
   ]
  },
  {
   "cell_type": "markdown",
   "id": "20302c17-fa82-416f-8134-a93fde2b7c85",
   "metadata": {},
   "source": [
    "As we can see in the above dataset that genre column contains JSON objects which have data in form of key-value pairs but we are only interested in having the genres of the related plot. SO lets convert this JSON to simple list format containing genres"
   ]
  },
  {
   "cell_type": "code",
   "execution_count": 10,
   "id": "c0d3d07d-04ec-44fa-b7ed-e34148f40127",
   "metadata": {},
   "outputs": [],
   "source": [
    "genres=[]\n",
    "\n",
    "for i in movies['genre']:\n",
    "    genres.append(list(json.loads(i).values()))\n",
    "\n",
    "movies['genre_new']= genres"
   ]
  },
  {
   "cell_type": "code",
   "execution_count": 11,
   "id": "dd9567f3-2e91-4dd6-ae7a-ae1db8133098",
   "metadata": {},
   "outputs": [
    {
     "data": {
      "text/html": [
       "<div>\n",
       "<style scoped>\n",
       "    .dataframe tbody tr th:only-of-type {\n",
       "        vertical-align: middle;\n",
       "    }\n",
       "\n",
       "    .dataframe tbody tr th {\n",
       "        vertical-align: top;\n",
       "    }\n",
       "\n",
       "    .dataframe thead th {\n",
       "        text-align: right;\n",
       "    }\n",
       "</style>\n",
       "<table border=\"1\" class=\"dataframe\">\n",
       "  <thead>\n",
       "    <tr style=\"text-align: right;\">\n",
       "      <th></th>\n",
       "      <th>movie_id</th>\n",
       "      <th>synopsis</th>\n",
       "      <th>movie_name</th>\n",
       "      <th>genre</th>\n",
       "      <th>genre_new</th>\n",
       "    </tr>\n",
       "  </thead>\n",
       "  <tbody>\n",
       "    <tr>\n",
       "      <th>0</th>\n",
       "      <td>23890098</td>\n",
       "      <td>Shlykov, a hard-working taxi driver and Lyosha...</td>\n",
       "      <td>Taxi Blues</td>\n",
       "      <td>{\"/m/07s9rl0\": \"Drama\", \"/m/03q4nz\": \"World ci...</td>\n",
       "      <td>[Drama, World cinema]</td>\n",
       "    </tr>\n",
       "    <tr>\n",
       "      <th>1</th>\n",
       "      <td>31186339</td>\n",
       "      <td>The nation of Panem consists of a wealthy Capi...</td>\n",
       "      <td>The Hunger Games</td>\n",
       "      <td>{\"/m/03btsm8\": \"Action/Adventure\", \"/m/06n90\":...</td>\n",
       "      <td>[Action/Adventure, Science Fiction, Action, Dr...</td>\n",
       "    </tr>\n",
       "    <tr>\n",
       "      <th>2</th>\n",
       "      <td>20663735</td>\n",
       "      <td>Poovalli Induchoodan  is sentenced for six yea...</td>\n",
       "      <td>Narasimham</td>\n",
       "      <td>{\"/m/04t36\": \"Musical\", \"/m/02kdv5l\": \"Action\"...</td>\n",
       "      <td>[Musical, Action, Drama, Bollywood]</td>\n",
       "    </tr>\n",
       "    <tr>\n",
       "      <th>3</th>\n",
       "      <td>2231378</td>\n",
       "      <td>The Lemon Drop Kid , a New York City swindler,...</td>\n",
       "      <td>The Lemon Drop Kid</td>\n",
       "      <td>{\"/m/06qm3\": \"Screwball comedy\", \"/m/01z4y\": \"...</td>\n",
       "      <td>[Screwball comedy, Comedy]</td>\n",
       "    </tr>\n",
       "    <tr>\n",
       "      <th>4</th>\n",
       "      <td>595909</td>\n",
       "      <td>Seventh-day Adventist Church pastor Michael Ch...</td>\n",
       "      <td>A Cry in the Dark</td>\n",
       "      <td>{\"/m/0lsxr\": \"Crime Fiction\", \"/m/07s9rl0\": \"D...</td>\n",
       "      <td>[Crime Fiction, Drama, Docudrama, World cinema...</td>\n",
       "    </tr>\n",
       "  </tbody>\n",
       "</table>\n",
       "</div>"
      ],
      "text/plain": [
       "   movie_id                                           synopsis  \\\n",
       "0  23890098  Shlykov, a hard-working taxi driver and Lyosha...   \n",
       "1  31186339  The nation of Panem consists of a wealthy Capi...   \n",
       "2  20663735  Poovalli Induchoodan  is sentenced for six yea...   \n",
       "3   2231378  The Lemon Drop Kid , a New York City swindler,...   \n",
       "4    595909  Seventh-day Adventist Church pastor Michael Ch...   \n",
       "\n",
       "           movie_name                                              genre  \\\n",
       "0          Taxi Blues  {\"/m/07s9rl0\": \"Drama\", \"/m/03q4nz\": \"World ci...   \n",
       "1    The Hunger Games  {\"/m/03btsm8\": \"Action/Adventure\", \"/m/06n90\":...   \n",
       "2          Narasimham  {\"/m/04t36\": \"Musical\", \"/m/02kdv5l\": \"Action\"...   \n",
       "3  The Lemon Drop Kid  {\"/m/06qm3\": \"Screwball comedy\", \"/m/01z4y\": \"...   \n",
       "4   A Cry in the Dark  {\"/m/0lsxr\": \"Crime Fiction\", \"/m/07s9rl0\": \"D...   \n",
       "\n",
       "                                           genre_new  \n",
       "0                              [Drama, World cinema]  \n",
       "1  [Action/Adventure, Science Fiction, Action, Dr...  \n",
       "2                [Musical, Action, Drama, Bollywood]  \n",
       "3                         [Screwball comedy, Comedy]  \n",
       "4  [Crime Fiction, Drama, Docudrama, World cinema...  "
      ]
     },
     "execution_count": 11,
     "metadata": {},
     "output_type": "execute_result"
    }
   ],
   "source": [
    "movies.head()   \n",
    "# PS. dont get annoyed by frequent calling of this function.... it helps see errors :)"
   ]
  },
  {
   "cell_type": "code",
   "execution_count": 12,
   "id": "f9eae800-4493-4eec-92ba-45e6df45154c",
   "metadata": {},
   "outputs": [
    {
     "data": {
      "text/plain": [
       "((41793, 5), (42204, 5))"
      ]
     },
     "execution_count": 12,
     "metadata": {},
     "output_type": "execute_result"
    }
   ],
   "source": [
    "data = movies[~(movies['genre_new'].str.len()==0)]\n",
    "data.shape, movies.shape"
   ]
  },
  {
   "cell_type": "code",
   "execution_count": 13,
   "id": "75b36196-e931-4bb4-9e69-04e383a92163",
   "metadata": {},
   "outputs": [
    {
     "data": {
      "text/html": [
       "<div>\n",
       "<style scoped>\n",
       "    .dataframe tbody tr th:only-of-type {\n",
       "        vertical-align: middle;\n",
       "    }\n",
       "\n",
       "    .dataframe tbody tr th {\n",
       "        vertical-align: top;\n",
       "    }\n",
       "\n",
       "    .dataframe thead th {\n",
       "        text-align: right;\n",
       "    }\n",
       "</style>\n",
       "<table border=\"1\" class=\"dataframe\">\n",
       "  <thead>\n",
       "    <tr style=\"text-align: right;\">\n",
       "      <th></th>\n",
       "      <th>movie_id</th>\n",
       "      <th>synopsis</th>\n",
       "      <th>movie_name</th>\n",
       "      <th>genre</th>\n",
       "      <th>genre_new</th>\n",
       "    </tr>\n",
       "  </thead>\n",
       "  <tbody>\n",
       "    <tr>\n",
       "      <th>0</th>\n",
       "      <td>23890098</td>\n",
       "      <td>Shlykov, a hard-working taxi driver and Lyosha...</td>\n",
       "      <td>Taxi Blues</td>\n",
       "      <td>{\"/m/07s9rl0\": \"Drama\", \"/m/03q4nz\": \"World ci...</td>\n",
       "      <td>[Drama, World cinema]</td>\n",
       "    </tr>\n",
       "    <tr>\n",
       "      <th>1</th>\n",
       "      <td>31186339</td>\n",
       "      <td>The nation of Panem consists of a wealthy Capi...</td>\n",
       "      <td>The Hunger Games</td>\n",
       "      <td>{\"/m/03btsm8\": \"Action/Adventure\", \"/m/06n90\":...</td>\n",
       "      <td>[Action/Adventure, Science Fiction, Action, Dr...</td>\n",
       "    </tr>\n",
       "    <tr>\n",
       "      <th>2</th>\n",
       "      <td>20663735</td>\n",
       "      <td>Poovalli Induchoodan  is sentenced for six yea...</td>\n",
       "      <td>Narasimham</td>\n",
       "      <td>{\"/m/04t36\": \"Musical\", \"/m/02kdv5l\": \"Action\"...</td>\n",
       "      <td>[Musical, Action, Drama, Bollywood]</td>\n",
       "    </tr>\n",
       "    <tr>\n",
       "      <th>3</th>\n",
       "      <td>2231378</td>\n",
       "      <td>The Lemon Drop Kid , a New York City swindler,...</td>\n",
       "      <td>The Lemon Drop Kid</td>\n",
       "      <td>{\"/m/06qm3\": \"Screwball comedy\", \"/m/01z4y\": \"...</td>\n",
       "      <td>[Screwball comedy, Comedy]</td>\n",
       "    </tr>\n",
       "    <tr>\n",
       "      <th>4</th>\n",
       "      <td>595909</td>\n",
       "      <td>Seventh-day Adventist Church pastor Michael Ch...</td>\n",
       "      <td>A Cry in the Dark</td>\n",
       "      <td>{\"/m/0lsxr\": \"Crime Fiction\", \"/m/07s9rl0\": \"D...</td>\n",
       "      <td>[Crime Fiction, Drama, Docudrama, World cinema...</td>\n",
       "    </tr>\n",
       "  </tbody>\n",
       "</table>\n",
       "</div>"
      ],
      "text/plain": [
       "   movie_id                                           synopsis  \\\n",
       "0  23890098  Shlykov, a hard-working taxi driver and Lyosha...   \n",
       "1  31186339  The nation of Panem consists of a wealthy Capi...   \n",
       "2  20663735  Poovalli Induchoodan  is sentenced for six yea...   \n",
       "3   2231378  The Lemon Drop Kid , a New York City swindler,...   \n",
       "4    595909  Seventh-day Adventist Church pastor Michael Ch...   \n",
       "\n",
       "           movie_name                                              genre  \\\n",
       "0          Taxi Blues  {\"/m/07s9rl0\": \"Drama\", \"/m/03q4nz\": \"World ci...   \n",
       "1    The Hunger Games  {\"/m/03btsm8\": \"Action/Adventure\", \"/m/06n90\":...   \n",
       "2          Narasimham  {\"/m/04t36\": \"Musical\", \"/m/02kdv5l\": \"Action\"...   \n",
       "3  The Lemon Drop Kid  {\"/m/06qm3\": \"Screwball comedy\", \"/m/01z4y\": \"...   \n",
       "4   A Cry in the Dark  {\"/m/0lsxr\": \"Crime Fiction\", \"/m/07s9rl0\": \"D...   \n",
       "\n",
       "                                           genre_new  \n",
       "0                              [Drama, World cinema]  \n",
       "1  [Action/Adventure, Science Fiction, Action, Dr...  \n",
       "2                [Musical, Action, Drama, Bollywood]  \n",
       "3                         [Screwball comedy, Comedy]  \n",
       "4  [Crime Fiction, Drama, Docudrama, World cinema...  "
      ]
     },
     "execution_count": 13,
     "metadata": {},
     "output_type": "execute_result"
    }
   ],
   "source": [
    "data.head()"
   ]
  },
  {
   "cell_type": "markdown",
   "id": "37a27975-8209-422b-9e41-4ecb9acb5460",
   "metadata": {},
   "source": [
    "# Starting NLP Operations"
   ]
  },
  {
   "cell_type": "markdown",
   "id": "62c131ed-4af7-4e71-91a3-d47860d0e751",
   "metadata": {},
   "source": [
    "In case of language modelling and NLP, frequency and count of words holds a lot of importance along with its connotation. So, we will be starting our NLP Operations by doing these calculations first."
   ]
  },
  {
   "cell_type": "code",
   "execution_count": 14,
   "id": "4bba0b5a-13ed-426f-813f-7d48d3441d4c",
   "metadata": {},
   "outputs": [
    {
     "name": "stdout",
     "output_type": "stream",
     "text": [
      "Number of genres: 363\n"
     ]
    }
   ],
   "source": [
    "genres_list = sum(genres, [])\n",
    "print(\"Number of genres: \"+ str(len(set(genres_list))))"
   ]
  },
  {
   "cell_type": "code",
   "execution_count": 15,
   "id": "53a37127-05e8-4980-ade8-cf340124d86a",
   "metadata": {},
   "outputs": [
    {
     "data": {
      "text/html": [
       "<div>\n",
       "<style scoped>\n",
       "    .dataframe tbody tr th:only-of-type {\n",
       "        vertical-align: middle;\n",
       "    }\n",
       "\n",
       "    .dataframe tbody tr th {\n",
       "        vertical-align: top;\n",
       "    }\n",
       "\n",
       "    .dataframe thead th {\n",
       "        text-align: right;\n",
       "    }\n",
       "</style>\n",
       "<table border=\"1\" class=\"dataframe\">\n",
       "  <thead>\n",
       "    <tr style=\"text-align: right;\">\n",
       "      <th></th>\n",
       "      <th>Count</th>\n",
       "    </tr>\n",
       "  </thead>\n",
       "  <tbody>\n",
       "    <tr>\n",
       "      <th>count</th>\n",
       "      <td>330.000000</td>\n",
       "    </tr>\n",
       "    <tr>\n",
       "      <th>mean</th>\n",
       "      <td>109.921212</td>\n",
       "    </tr>\n",
       "    <tr>\n",
       "      <th>std</th>\n",
       "      <td>180.728885</td>\n",
       "    </tr>\n",
       "    <tr>\n",
       "      <th>min</th>\n",
       "      <td>1.000000</td>\n",
       "    </tr>\n",
       "    <tr>\n",
       "      <th>25%</th>\n",
       "      <td>6.000000</td>\n",
       "    </tr>\n",
       "    <tr>\n",
       "      <th>50%</th>\n",
       "      <td>29.000000</td>\n",
       "    </tr>\n",
       "    <tr>\n",
       "      <th>75%</th>\n",
       "      <td>115.250000</td>\n",
       "    </tr>\n",
       "    <tr>\n",
       "      <th>max</th>\n",
       "      <td>998.000000</td>\n",
       "    </tr>\n",
       "  </tbody>\n",
       "</table>\n",
       "</div>"
      ],
      "text/plain": [
       "            Count\n",
       "count  330.000000\n",
       "mean   109.921212\n",
       "std    180.728885\n",
       "min      1.000000\n",
       "25%      6.000000\n",
       "50%     29.000000\n",
       "75%    115.250000\n",
       "max    998.000000"
      ]
     },
     "execution_count": 15,
     "metadata": {},
     "output_type": "execute_result"
    }
   ],
   "source": [
    "genres_freq = nltk.FreqDist(genres_list)\n",
    "genres_list = pd.DataFrame({'Genre': list(genres_freq.keys()), 'Count':list(genres_freq.values()) })\n",
    "genres_list = genres_list[genres_list['Count']<1000]\n",
    "genres_list.describe()"
   ]
  },
  {
   "cell_type": "code",
   "execution_count": 16,
   "id": "d59c1499-7318-47b8-98e6-6b389e15ffad",
   "metadata": {},
   "outputs": [
    {
     "data": {
      "text/html": [
       "<div>\n",
       "<style scoped>\n",
       "    .dataframe tbody tr th:only-of-type {\n",
       "        vertical-align: middle;\n",
       "    }\n",
       "\n",
       "    .dataframe tbody tr th {\n",
       "        vertical-align: top;\n",
       "    }\n",
       "\n",
       "    .dataframe thead th {\n",
       "        text-align: right;\n",
       "    }\n",
       "</style>\n",
       "<table border=\"1\" class=\"dataframe\">\n",
       "  <thead>\n",
       "    <tr style=\"text-align: right;\">\n",
       "      <th></th>\n",
       "      <th>movie_id</th>\n",
       "      <th>synopsis</th>\n",
       "      <th>movie_name</th>\n",
       "      <th>genre</th>\n",
       "      <th>genre_new</th>\n",
       "    </tr>\n",
       "  </thead>\n",
       "  <tbody>\n",
       "    <tr>\n",
       "      <th>0</th>\n",
       "      <td>23890098</td>\n",
       "      <td>Shlykov, a hard-working taxi driver and Lyosha...</td>\n",
       "      <td>Taxi Blues</td>\n",
       "      <td>{\"/m/07s9rl0\": \"Drama\", \"/m/03q4nz\": \"World ci...</td>\n",
       "      <td>[Drama, World cinema]</td>\n",
       "    </tr>\n",
       "    <tr>\n",
       "      <th>1</th>\n",
       "      <td>31186339</td>\n",
       "      <td>The nation of Panem consists of a wealthy Capi...</td>\n",
       "      <td>The Hunger Games</td>\n",
       "      <td>{\"/m/03btsm8\": \"Action/Adventure\", \"/m/06n90\":...</td>\n",
       "      <td>[Action/Adventure, Science Fiction, Action, Dr...</td>\n",
       "    </tr>\n",
       "    <tr>\n",
       "      <th>2</th>\n",
       "      <td>20663735</td>\n",
       "      <td>Poovalli Induchoodan  is sentenced for six yea...</td>\n",
       "      <td>Narasimham</td>\n",
       "      <td>{\"/m/04t36\": \"Musical\", \"/m/02kdv5l\": \"Action\"...</td>\n",
       "      <td>[Musical, Action, Drama, Bollywood]</td>\n",
       "    </tr>\n",
       "    <tr>\n",
       "      <th>3</th>\n",
       "      <td>2231378</td>\n",
       "      <td>The Lemon Drop Kid , a New York City swindler,...</td>\n",
       "      <td>The Lemon Drop Kid</td>\n",
       "      <td>{\"/m/06qm3\": \"Screwball comedy\", \"/m/01z4y\": \"...</td>\n",
       "      <td>[Comedy]</td>\n",
       "    </tr>\n",
       "    <tr>\n",
       "      <th>4</th>\n",
       "      <td>595909</td>\n",
       "      <td>Seventh-day Adventist Church pastor Michael Ch...</td>\n",
       "      <td>A Cry in the Dark</td>\n",
       "      <td>{\"/m/0lsxr\": \"Crime Fiction\", \"/m/07s9rl0\": \"D...</td>\n",
       "      <td>[Crime Fiction, Drama, World cinema]</td>\n",
       "    </tr>\n",
       "  </tbody>\n",
       "</table>\n",
       "</div>"
      ],
      "text/plain": [
       "   movie_id                                           synopsis  \\\n",
       "0  23890098  Shlykov, a hard-working taxi driver and Lyosha...   \n",
       "1  31186339  The nation of Panem consists of a wealthy Capi...   \n",
       "2  20663735  Poovalli Induchoodan  is sentenced for six yea...   \n",
       "3   2231378  The Lemon Drop Kid , a New York City swindler,...   \n",
       "4    595909  Seventh-day Adventist Church pastor Michael Ch...   \n",
       "\n",
       "           movie_name                                              genre  \\\n",
       "0          Taxi Blues  {\"/m/07s9rl0\": \"Drama\", \"/m/03q4nz\": \"World ci...   \n",
       "1    The Hunger Games  {\"/m/03btsm8\": \"Action/Adventure\", \"/m/06n90\":...   \n",
       "2          Narasimham  {\"/m/04t36\": \"Musical\", \"/m/02kdv5l\": \"Action\"...   \n",
       "3  The Lemon Drop Kid  {\"/m/06qm3\": \"Screwball comedy\", \"/m/01z4y\": \"...   \n",
       "4   A Cry in the Dark  {\"/m/0lsxr\": \"Crime Fiction\", \"/m/07s9rl0\": \"D...   \n",
       "\n",
       "                                           genre_new  \n",
       "0                              [Drama, World cinema]  \n",
       "1  [Action/Adventure, Science Fiction, Action, Dr...  \n",
       "2                [Musical, Action, Drama, Bollywood]  \n",
       "3                                           [Comedy]  \n",
       "4               [Crime Fiction, Drama, World cinema]  "
      ]
     },
     "execution_count": 16,
     "metadata": {},
     "output_type": "execute_result"
    }
   ],
   "source": [
    "# removing genres other than most frequent genres\n",
    "\n",
    "bottom_genres = genres_list['Genre'].tolist()+['Silent film', 'Indie', 'Comedy-drama', 'Comedy film','Film adaptation', 'Black-and-white'  ]\n",
    "data['genre_new']= data.genre_new.apply(lambda x: [i for i in x if i not in bottom_genres])\n",
    "data.head()"
   ]
  },
  {
   "cell_type": "code",
   "execution_count": 17,
   "id": "c91879d8-1651-40d9-87d6-558231d72e5c",
   "metadata": {},
   "outputs": [
    {
     "data": {
      "text/html": [
       "<div>\n",
       "<style scoped>\n",
       "    .dataframe tbody tr th:only-of-type {\n",
       "        vertical-align: middle;\n",
       "    }\n",
       "\n",
       "    .dataframe tbody tr th {\n",
       "        vertical-align: top;\n",
       "    }\n",
       "\n",
       "    .dataframe thead th {\n",
       "        text-align: right;\n",
       "    }\n",
       "</style>\n",
       "<table border=\"1\" class=\"dataframe\">\n",
       "  <thead>\n",
       "    <tr style=\"text-align: right;\">\n",
       "      <th></th>\n",
       "      <th>movie_id</th>\n",
       "      <th>synopsis</th>\n",
       "      <th>movie_name</th>\n",
       "      <th>genre</th>\n",
       "      <th>genre_new</th>\n",
       "    </tr>\n",
       "  </thead>\n",
       "  <tbody>\n",
       "    <tr>\n",
       "      <th>0</th>\n",
       "      <td>23890098</td>\n",
       "      <td>Shlykov, a hard-working taxi driver and Lyosha...</td>\n",
       "      <td>Taxi Blues</td>\n",
       "      <td>{\"/m/07s9rl0\": \"Drama\", \"/m/03q4nz\": \"World ci...</td>\n",
       "      <td>[Drama, World cinema]</td>\n",
       "    </tr>\n",
       "    <tr>\n",
       "      <th>1</th>\n",
       "      <td>31186339</td>\n",
       "      <td>The nation of Panem consists of a wealthy Capi...</td>\n",
       "      <td>The Hunger Games</td>\n",
       "      <td>{\"/m/03btsm8\": \"Action/Adventure\", \"/m/06n90\":...</td>\n",
       "      <td>[Action/Adventure, Science Fiction, Action, Dr...</td>\n",
       "    </tr>\n",
       "    <tr>\n",
       "      <th>2</th>\n",
       "      <td>20663735</td>\n",
       "      <td>Poovalli Induchoodan  is sentenced for six yea...</td>\n",
       "      <td>Narasimham</td>\n",
       "      <td>{\"/m/04t36\": \"Musical\", \"/m/02kdv5l\": \"Action\"...</td>\n",
       "      <td>[Musical, Action, Drama, Bollywood]</td>\n",
       "    </tr>\n",
       "    <tr>\n",
       "      <th>3</th>\n",
       "      <td>2231378</td>\n",
       "      <td>The Lemon Drop Kid , a New York City swindler,...</td>\n",
       "      <td>The Lemon Drop Kid</td>\n",
       "      <td>{\"/m/06qm3\": \"Screwball comedy\", \"/m/01z4y\": \"...</td>\n",
       "      <td>[Comedy]</td>\n",
       "    </tr>\n",
       "    <tr>\n",
       "      <th>4</th>\n",
       "      <td>595909</td>\n",
       "      <td>Seventh-day Adventist Church pastor Michael Ch...</td>\n",
       "      <td>A Cry in the Dark</td>\n",
       "      <td>{\"/m/0lsxr\": \"Crime Fiction\", \"/m/07s9rl0\": \"D...</td>\n",
       "      <td>[Crime Fiction, Drama, World cinema]</td>\n",
       "    </tr>\n",
       "  </tbody>\n",
       "</table>\n",
       "</div>"
      ],
      "text/plain": [
       "   movie_id                                           synopsis  \\\n",
       "0  23890098  Shlykov, a hard-working taxi driver and Lyosha...   \n",
       "1  31186339  The nation of Panem consists of a wealthy Capi...   \n",
       "2  20663735  Poovalli Induchoodan  is sentenced for six yea...   \n",
       "3   2231378  The Lemon Drop Kid , a New York City swindler,...   \n",
       "4    595909  Seventh-day Adventist Church pastor Michael Ch...   \n",
       "\n",
       "           movie_name                                              genre  \\\n",
       "0          Taxi Blues  {\"/m/07s9rl0\": \"Drama\", \"/m/03q4nz\": \"World ci...   \n",
       "1    The Hunger Games  {\"/m/03btsm8\": \"Action/Adventure\", \"/m/06n90\":...   \n",
       "2          Narasimham  {\"/m/04t36\": \"Musical\", \"/m/02kdv5l\": \"Action\"...   \n",
       "3  The Lemon Drop Kid  {\"/m/06qm3\": \"Screwball comedy\", \"/m/01z4y\": \"...   \n",
       "4   A Cry in the Dark  {\"/m/0lsxr\": \"Crime Fiction\", \"/m/07s9rl0\": \"D...   \n",
       "\n",
       "                                           genre_new  \n",
       "0                              [Drama, World cinema]  \n",
       "1  [Action/Adventure, Science Fiction, Action, Dr...  \n",
       "2                [Musical, Action, Drama, Bollywood]  \n",
       "3                                           [Comedy]  \n",
       "4               [Crime Fiction, Drama, World cinema]  "
      ]
     },
     "execution_count": 17,
     "metadata": {},
     "output_type": "execute_result"
    }
   ],
   "source": [
    "# removing data gaving NULL genre list\n",
    "\n",
    "data = data[data['genre_new'].map(lambda x: len(x)>0)]\n",
    "data.head()"
   ]
  },
  {
   "cell_type": "code",
   "execution_count": 18,
   "id": "e95ff4d5-427e-4a11-abc2-46207eaeee02",
   "metadata": {},
   "outputs": [
    {
     "name": "stdout",
     "output_type": "stream",
     "text": [
      "Number of genres: 27\n"
     ]
    }
   ],
   "source": [
    "genres=[]\n",
    "\n",
    "for i in data['genre_new']:\n",
    "    genres.append(i)\n",
    "\n",
    "genres_list= sum(genres, [])\n",
    "print(\"Number of genres: \"+ str(len(set(genres_list))))"
   ]
  },
  {
   "cell_type": "code",
   "execution_count": 19,
   "id": "44074f16-be6b-4248-82fe-dc445bb1ccd9",
   "metadata": {},
   "outputs": [],
   "source": [
    "genres_freq = nltk.FreqDist(genres_list)\n",
    "genres_list = pd.DataFrame({'Genre': list(genres_freq.keys()), 'Count':list(genres_freq.values()) })"
   ]
  },
  {
   "cell_type": "markdown",
   "id": "7e70841a-17fe-45aa-822c-3e4672b4a399",
   "metadata": {},
   "source": [
    "# Plotting the top Genres"
   ]
  },
  {
   "cell_type": "code",
   "execution_count": 20,
   "id": "4f275c87-4ed3-4156-9b04-49a0d8cd2765",
   "metadata": {},
   "outputs": [
    {
     "data": {
      "image/png": "[encoded data removed]",
      "text/plain": [
       "<Figure size 1000x1000 with 1 Axes>"
      ]
     },
     "metadata": {},
     "output_type": "display_data"
    }
   ],
   "source": [
    "g = genres_list.nlargest(columns='Count', n=33)\n",
    "plt.figure(figsize = (10,10))\n",
    "graph= sns.barplot(data=g, x='Count', y='Genre')\n",
    "graph.set(ylabel='Genre')\n",
    "plt.show()\n"
   ]
  },
  {
   "cell_type": "markdown",
   "id": "b7639a2b-6484-44dc-826b-c4003678d78b",
   "metadata": {},
   "source": [
    "# Data Preprocessing"
   ]
  },
  {
   "cell_type": "markdown",
   "id": "29f3f317-22e8-4fa0-8dfb-7a300968a039",
   "metadata": {},
   "source": [
    "In NLP, mostly data preprocessing includes removing unwanted symbols, characters and words. Doing this ensures that we only have the meaningful data with us and model is more efficient."
   ]
  },
  {
   "cell_type": "markdown",
   "id": "107758a4-c82a-41c7-8e05-578e970d5fe7",
   "metadata": {},
   "source": [
    "### Removing numbers, puncuations and symbols"
   ]
  },
  {
   "cell_type": "code",
   "execution_count": 21,
   "id": "d442e5ff-cb33-40b7-9f8d-6c461980fe03",
   "metadata": {},
   "outputs": [],
   "source": [
    "def filter_synopsis(synopsis):\n",
    "    synopsis = re.sub(\"\\ '\",\"\", synopsis)\n",
    "    synopsis = re.sub(\"[^a-zA-Z]\", \" \", synopsis)\n",
    "    synopsis = ' '.join(synopsis.split())\n",
    "    synopsis = synopsis.lower()\n",
    "    return synopsis\n"
   ]
  },
  {
   "cell_type": "code",
   "execution_count": 22,
   "id": "c4e07029-6bba-41f1-b973-ab75a221bd83",
   "metadata": {},
   "outputs": [
    {
     "data": {
      "text/html": [
       "<div>\n",
       "<style scoped>\n",
       "    .dataframe tbody tr th:only-of-type {\n",
       "        vertical-align: middle;\n",
       "    }\n",
       "\n",
       "    .dataframe tbody tr th {\n",
       "        vertical-align: top;\n",
       "    }\n",
       "\n",
       "    .dataframe thead th {\n",
       "        text-align: right;\n",
       "    }\n",
       "</style>\n",
       "<table border=\"1\" class=\"dataframe\">\n",
       "  <thead>\n",
       "    <tr style=\"text-align: right;\">\n",
       "      <th></th>\n",
       "      <th>movie_id</th>\n",
       "      <th>synopsis</th>\n",
       "      <th>movie_name</th>\n",
       "      <th>genre</th>\n",
       "      <th>genre_new</th>\n",
       "      <th>plot</th>\n",
       "    </tr>\n",
       "  </thead>\n",
       "  <tbody>\n",
       "    <tr>\n",
       "      <th>0</th>\n",
       "      <td>23890098</td>\n",
       "      <td>Shlykov, a hard-working taxi driver and Lyosha...</td>\n",
       "      <td>Taxi Blues</td>\n",
       "      <td>{\"/m/07s9rl0\": \"Drama\", \"/m/03q4nz\": \"World ci...</td>\n",
       "      <td>[Drama, World cinema]</td>\n",
       "      <td>shlykov a hard working taxi driver and lyosha ...</td>\n",
       "    </tr>\n",
       "    <tr>\n",
       "      <th>1</th>\n",
       "      <td>31186339</td>\n",
       "      <td>The nation of Panem consists of a wealthy Capi...</td>\n",
       "      <td>The Hunger Games</td>\n",
       "      <td>{\"/m/03btsm8\": \"Action/Adventure\", \"/m/06n90\":...</td>\n",
       "      <td>[Action/Adventure, Science Fiction, Action, Dr...</td>\n",
       "      <td>the nation of panem consists of a wealthy capi...</td>\n",
       "    </tr>\n",
       "    <tr>\n",
       "      <th>2</th>\n",
       "      <td>20663735</td>\n",
       "      <td>Poovalli Induchoodan  is sentenced for six yea...</td>\n",
       "      <td>Narasimham</td>\n",
       "      <td>{\"/m/04t36\": \"Musical\", \"/m/02kdv5l\": \"Action\"...</td>\n",
       "      <td>[Musical, Action, Drama, Bollywood]</td>\n",
       "      <td>poovalli induchoodan is sentenced for six year...</td>\n",
       "    </tr>\n",
       "    <tr>\n",
       "      <th>3</th>\n",
       "      <td>2231378</td>\n",
       "      <td>The Lemon Drop Kid , a New York City swindler,...</td>\n",
       "      <td>The Lemon Drop Kid</td>\n",
       "      <td>{\"/m/06qm3\": \"Screwball comedy\", \"/m/01z4y\": \"...</td>\n",
       "      <td>[Comedy]</td>\n",
       "      <td>the lemon drop kid a new york city swindler is...</td>\n",
       "    </tr>\n",
       "    <tr>\n",
       "      <th>4</th>\n",
       "      <td>595909</td>\n",
       "      <td>Seventh-day Adventist Church pastor Michael Ch...</td>\n",
       "      <td>A Cry in the Dark</td>\n",
       "      <td>{\"/m/0lsxr\": \"Crime Fiction\", \"/m/07s9rl0\": \"D...</td>\n",
       "      <td>[Crime Fiction, Drama, World cinema]</td>\n",
       "      <td>seventh day adventist church pastor michael ch...</td>\n",
       "    </tr>\n",
       "  </tbody>\n",
       "</table>\n",
       "</div>"
      ],
      "text/plain": [
       "   movie_id                                           synopsis  \\\n",
       "0  23890098  Shlykov, a hard-working taxi driver and Lyosha...   \n",
       "1  31186339  The nation of Panem consists of a wealthy Capi...   \n",
       "2  20663735  Poovalli Induchoodan  is sentenced for six yea...   \n",
       "3   2231378  The Lemon Drop Kid , a New York City swindler,...   \n",
       "4    595909  Seventh-day Adventist Church pastor Michael Ch...   \n",
       "\n",
       "           movie_name                                              genre  \\\n",
       "0          Taxi Blues  {\"/m/07s9rl0\": \"Drama\", \"/m/03q4nz\": \"World ci...   \n",
       "1    The Hunger Games  {\"/m/03btsm8\": \"Action/Adventure\", \"/m/06n90\":...   \n",
       "2          Narasimham  {\"/m/04t36\": \"Musical\", \"/m/02kdv5l\": \"Action\"...   \n",
       "3  The Lemon Drop Kid  {\"/m/06qm3\": \"Screwball comedy\", \"/m/01z4y\": \"...   \n",
       "4   A Cry in the Dark  {\"/m/0lsxr\": \"Crime Fiction\", \"/m/07s9rl0\": \"D...   \n",
       "\n",
       "                                           genre_new  \\\n",
       "0                              [Drama, World cinema]   \n",
       "1  [Action/Adventure, Science Fiction, Action, Dr...   \n",
       "2                [Musical, Action, Drama, Bollywood]   \n",
       "3                                           [Comedy]   \n",
       "4               [Crime Fiction, Drama, World cinema]   \n",
       "\n",
       "                                                plot  \n",
       "0  shlykov a hard working taxi driver and lyosha ...  \n",
       "1  the nation of panem consists of a wealthy capi...  \n",
       "2  poovalli induchoodan is sentenced for six year...  \n",
       "3  the lemon drop kid a new york city swindler is...  \n",
       "4  seventh day adventist church pastor michael ch...  "
      ]
     },
     "execution_count": 22,
     "metadata": {},
     "output_type": "execute_result"
    }
   ],
   "source": [
    "data['plot'] = data['synopsis'].apply(lambda x: filter_synopsis(x))\n",
    "data.head()"
   ]
  },
  {
   "cell_type": "markdown",
   "id": "9528bab0-1593-4c8f-a250-93c40fa5f053",
   "metadata": {},
   "source": [
    "Now in the above output you can see the difference between 'synopsis' column and 'plot' column"
   ]
  },
  {
   "cell_type": "markdown",
   "id": "b35aabf1-4039-4599-b49b-a57f1c85b451",
   "metadata": {},
   "source": [
    "### Finding the frequencies of top 50 most occuring words"
   ]
  },
  {
   "cell_type": "code",
   "execution_count": 23,
   "id": "aba977d1-c465-4eb1-8b3b-3af483ff6957",
   "metadata": {},
   "outputs": [],
   "source": [
    "def word_frequency(col, items):\n",
    "    text = ' '.join([plot for plot in col])\n",
    "    text = text.split()\n",
    "    freq_dist = nltk.FreqDist(text)\n",
    "    \n",
    "    words_df = pd.DataFrame({'Word':list(freq_dist.keys()), 'Frequency':list(freq_dist.values())  })\n",
    "\n",
    "    # plotting the frequency along with words\n",
    "    order= words_df.nlargest(columns='Frequency',n=items)\n",
    "    plt.figure(figsize=(10,10))\n",
    "    graph = sns.barplot(data=order, x='Frequency', y='Word')\n",
    "    plt.show()"
   ]
  },
  {
   "cell_type": "code",
   "execution_count": 24,
   "id": "5528e9e1-6ac9-47db-a058-eca579baa840",
   "metadata": {},
   "outputs": [
    {
     "data": {
      "image/png": "[encoded data removed]",
      "text/plain": [
       "<Figure size 1000x1000 with 1 Axes>"
      ]
     },
     "metadata": {},
     "output_type": "display_data"
    }
   ],
   "source": [
    "word_frequency(data['plot'],50)\n"
   ]
  },
  {
   "cell_type": "markdown",
   "id": "db1ab143-11fe-441a-8b19-197006eaf797",
   "metadata": {},
   "source": [
    "Now we can see that these words are meaningless but are so much in frequency that if we process them our model will waste a lot of time in processing the data that will NOT contribute anything to predicting the genre of our movies. Such words are called *Stop Words* and need to to be removed."
   ]
  },
  {
   "cell_type": "markdown",
   "id": "36bfbe52-eb94-4391-bc10-b1db65f4d681",
   "metadata": {},
   "source": [
    "### Stop Word Removal"
   ]
  },
  {
   "cell_type": "code",
   "execution_count": 25,
   "id": "a4f1fbf0-64dc-48df-998f-1e6a33c203bf",
   "metadata": {},
   "outputs": [],
   "source": [
    "eng_stopwords = set(stopwords.words('english'))\n",
    "\n",
    "def stopwords_filtering(plot):\n",
    "    filtered_text = [x for x in plot.split() if not x in eng_stopwords]\n",
    "    return ' '.join(filtered_text)\n",
    "    "
   ]
  },
  {
   "cell_type": "code",
   "execution_count": 26,
   "id": "94079f02-3f48-4154-bedc-93e7ebedc6b1",
   "metadata": {},
   "outputs": [
    {
     "data": {
      "text/html": [
       "<div>\n",
       "<style scoped>\n",
       "    .dataframe tbody tr th:only-of-type {\n",
       "        vertical-align: middle;\n",
       "    }\n",
       "\n",
       "    .dataframe tbody tr th {\n",
       "        vertical-align: top;\n",
       "    }\n",
       "\n",
       "    .dataframe thead th {\n",
       "        text-align: right;\n",
       "    }\n",
       "</style>\n",
       "<table border=\"1\" class=\"dataframe\">\n",
       "  <thead>\n",
       "    <tr style=\"text-align: right;\">\n",
       "      <th></th>\n",
       "      <th>movie_id</th>\n",
       "      <th>synopsis</th>\n",
       "      <th>movie_name</th>\n",
       "      <th>genre</th>\n",
       "      <th>genre_new</th>\n",
       "      <th>plot</th>\n",
       "    </tr>\n",
       "  </thead>\n",
       "  <tbody>\n",
       "    <tr>\n",
       "      <th>0</th>\n",
       "      <td>23890098</td>\n",
       "      <td>Shlykov, a hard-working taxi driver and Lyosha...</td>\n",
       "      <td>Taxi Blues</td>\n",
       "      <td>{\"/m/07s9rl0\": \"Drama\", \"/m/03q4nz\": \"World ci...</td>\n",
       "      <td>[Drama, World cinema]</td>\n",
       "      <td>shlykov hard working taxi driver lyosha saxoph...</td>\n",
       "    </tr>\n",
       "    <tr>\n",
       "      <th>1</th>\n",
       "      <td>31186339</td>\n",
       "      <td>The nation of Panem consists of a wealthy Capi...</td>\n",
       "      <td>The Hunger Games</td>\n",
       "      <td>{\"/m/03btsm8\": \"Action/Adventure\", \"/m/06n90\":...</td>\n",
       "      <td>[Action/Adventure, Science Fiction, Action, Dr...</td>\n",
       "      <td>nation panem consists wealthy capitol twelve p...</td>\n",
       "    </tr>\n",
       "    <tr>\n",
       "      <th>2</th>\n",
       "      <td>20663735</td>\n",
       "      <td>Poovalli Induchoodan  is sentenced for six yea...</td>\n",
       "      <td>Narasimham</td>\n",
       "      <td>{\"/m/04t36\": \"Musical\", \"/m/02kdv5l\": \"Action\"...</td>\n",
       "      <td>[Musical, Action, Drama, Bollywood]</td>\n",
       "      <td>poovalli induchoodan sentenced six years priso...</td>\n",
       "    </tr>\n",
       "    <tr>\n",
       "      <th>3</th>\n",
       "      <td>2231378</td>\n",
       "      <td>The Lemon Drop Kid , a New York City swindler,...</td>\n",
       "      <td>The Lemon Drop Kid</td>\n",
       "      <td>{\"/m/06qm3\": \"Screwball comedy\", \"/m/01z4y\": \"...</td>\n",
       "      <td>[Comedy]</td>\n",
       "      <td>lemon drop kid new york city swindler illegall...</td>\n",
       "    </tr>\n",
       "    <tr>\n",
       "      <th>4</th>\n",
       "      <td>595909</td>\n",
       "      <td>Seventh-day Adventist Church pastor Michael Ch...</td>\n",
       "      <td>A Cry in the Dark</td>\n",
       "      <td>{\"/m/0lsxr\": \"Crime Fiction\", \"/m/07s9rl0\": \"D...</td>\n",
       "      <td>[Crime Fiction, Drama, World cinema]</td>\n",
       "      <td>seventh day adventist church pastor michael ch...</td>\n",
       "    </tr>\n",
       "  </tbody>\n",
       "</table>\n",
       "</div>"
      ],
      "text/plain": [
       "   movie_id                                           synopsis  \\\n",
       "0  23890098  Shlykov, a hard-working taxi driver and Lyosha...   \n",
       "1  31186339  The nation of Panem consists of a wealthy Capi...   \n",
       "2  20663735  Poovalli Induchoodan  is sentenced for six yea...   \n",
       "3   2231378  The Lemon Drop Kid , a New York City swindler,...   \n",
       "4    595909  Seventh-day Adventist Church pastor Michael Ch...   \n",
       "\n",
       "           movie_name                                              genre  \\\n",
       "0          Taxi Blues  {\"/m/07s9rl0\": \"Drama\", \"/m/03q4nz\": \"World ci...   \n",
       "1    The Hunger Games  {\"/m/03btsm8\": \"Action/Adventure\", \"/m/06n90\":...   \n",
       "2          Narasimham  {\"/m/04t36\": \"Musical\", \"/m/02kdv5l\": \"Action\"...   \n",
       "3  The Lemon Drop Kid  {\"/m/06qm3\": \"Screwball comedy\", \"/m/01z4y\": \"...   \n",
       "4   A Cry in the Dark  {\"/m/0lsxr\": \"Crime Fiction\", \"/m/07s9rl0\": \"D...   \n",
       "\n",
       "                                           genre_new  \\\n",
       "0                              [Drama, World cinema]   \n",
       "1  [Action/Adventure, Science Fiction, Action, Dr...   \n",
       "2                [Musical, Action, Drama, Bollywood]   \n",
       "3                                           [Comedy]   \n",
       "4               [Crime Fiction, Drama, World cinema]   \n",
       "\n",
       "                                                plot  \n",
       "0  shlykov hard working taxi driver lyosha saxoph...  \n",
       "1  nation panem consists wealthy capitol twelve p...  \n",
       "2  poovalli induchoodan sentenced six years priso...  \n",
       "3  lemon drop kid new york city swindler illegall...  \n",
       "4  seventh day adventist church pastor michael ch...  "
      ]
     },
     "execution_count": 26,
     "metadata": {},
     "output_type": "execute_result"
    }
   ],
   "source": [
    "data['plot']= data['plot'].apply(lambda x: stopwords_filtering(x))\n",
    "data.head()"
   ]
  },
  {
   "cell_type": "markdown",
   "id": "6c5b6d6d-cb10-41e7-be1c-4e5eff23d983",
   "metadata": {},
   "source": [
    "We will again print the word-frequency graph to see if stop words have been removed"
   ]
  },
  {
   "cell_type": "code",
   "execution_count": 27,
   "id": "6c38a8b5-e189-403b-bd26-fe2a233ffd57",
   "metadata": {},
   "outputs": [
    {
     "data": {
      "image/png": "[encoded data removed]",
      "text/plain": [
       "<Figure size 1000x1000 with 1 Axes>"
      ]
     },
     "metadata": {},
     "output_type": "display_data"
    }
   ],
   "source": [
    "word_frequency(data['plot'],20)"
   ]
  },
  {
   "cell_type": "markdown",
   "id": "ce643a4a-d105-447f-b18b-360a43539089",
   "metadata": {},
   "source": [
    "### Word Lemmatization"
   ]
  },
  {
   "cell_type": "code",
   "execution_count": 28,
   "id": "72eeb3ef-0ce9-4cc1-ae71-09483224117f",
   "metadata": {},
   "outputs": [],
   "source": [
    "def lemma_plot(plot):\n",
    "    lemmatizer = WordNetLemmatizer()\n",
    "    filtered_text= [ lemmatizer.lemmatize(x) for x in plot.split() ]\n",
    "    return ' '.join(filtered_text)"
   ]
  },
  {
   "cell_type": "code",
   "execution_count": 29,
   "id": "1c0f3715-b929-4641-b0a7-66eed8604877",
   "metadata": {},
   "outputs": [
    {
     "data": {
      "text/html": [
       "<div>\n",
       "<style scoped>\n",
       "    .dataframe tbody tr th:only-of-type {\n",
       "        vertical-align: middle;\n",
       "    }\n",
       "\n",
       "    .dataframe tbody tr th {\n",
       "        vertical-align: top;\n",
       "    }\n",
       "\n",
       "    .dataframe thead th {\n",
       "        text-align: right;\n",
       "    }\n",
       "</style>\n",
       "<table border=\"1\" class=\"dataframe\">\n",
       "  <thead>\n",
       "    <tr style=\"text-align: right;\">\n",
       "      <th></th>\n",
       "      <th>movie_id</th>\n",
       "      <th>synopsis</th>\n",
       "      <th>movie_name</th>\n",
       "      <th>genre</th>\n",
       "      <th>genre_new</th>\n",
       "      <th>plot</th>\n",
       "    </tr>\n",
       "  </thead>\n",
       "  <tbody>\n",
       "    <tr>\n",
       "      <th>0</th>\n",
       "      <td>23890098</td>\n",
       "      <td>Shlykov, a hard-working taxi driver and Lyosha...</td>\n",
       "      <td>Taxi Blues</td>\n",
       "      <td>{\"/m/07s9rl0\": \"Drama\", \"/m/03q4nz\": \"World ci...</td>\n",
       "      <td>[Drama, World cinema]</td>\n",
       "      <td>shlykov hard working taxi driver lyosha saxoph...</td>\n",
       "    </tr>\n",
       "    <tr>\n",
       "      <th>1</th>\n",
       "      <td>31186339</td>\n",
       "      <td>The nation of Panem consists of a wealthy Capi...</td>\n",
       "      <td>The Hunger Games</td>\n",
       "      <td>{\"/m/03btsm8\": \"Action/Adventure\", \"/m/06n90\":...</td>\n",
       "      <td>[Action/Adventure, Science Fiction, Action, Dr...</td>\n",
       "      <td>nation panem consists wealthy capitol twelve p...</td>\n",
       "    </tr>\n",
       "    <tr>\n",
       "      <th>2</th>\n",
       "      <td>20663735</td>\n",
       "      <td>Poovalli Induchoodan  is sentenced for six yea...</td>\n",
       "      <td>Narasimham</td>\n",
       "      <td>{\"/m/04t36\": \"Musical\", \"/m/02kdv5l\": \"Action\"...</td>\n",
       "      <td>[Musical, Action, Drama, Bollywood]</td>\n",
       "      <td>poovalli induchoodan sentenced six year prison...</td>\n",
       "    </tr>\n",
       "    <tr>\n",
       "      <th>3</th>\n",
       "      <td>2231378</td>\n",
       "      <td>The Lemon Drop Kid , a New York City swindler,...</td>\n",
       "      <td>The Lemon Drop Kid</td>\n",
       "      <td>{\"/m/06qm3\": \"Screwball comedy\", \"/m/01z4y\": \"...</td>\n",
       "      <td>[Comedy]</td>\n",
       "      <td>lemon drop kid new york city swindler illegall...</td>\n",
       "    </tr>\n",
       "    <tr>\n",
       "      <th>4</th>\n",
       "      <td>595909</td>\n",
       "      <td>Seventh-day Adventist Church pastor Michael Ch...</td>\n",
       "      <td>A Cry in the Dark</td>\n",
       "      <td>{\"/m/0lsxr\": \"Crime Fiction\", \"/m/07s9rl0\": \"D...</td>\n",
       "      <td>[Crime Fiction, Drama, World cinema]</td>\n",
       "      <td>seventh day adventist church pastor michael ch...</td>\n",
       "    </tr>\n",
       "  </tbody>\n",
       "</table>\n",
       "</div>"
      ],
      "text/plain": [
       "   movie_id                                           synopsis  \\\n",
       "0  23890098  Shlykov, a hard-working taxi driver and Lyosha...   \n",
       "1  31186339  The nation of Panem consists of a wealthy Capi...   \n",
       "2  20663735  Poovalli Induchoodan  is sentenced for six yea...   \n",
       "3   2231378  The Lemon Drop Kid , a New York City swindler,...   \n",
       "4    595909  Seventh-day Adventist Church pastor Michael Ch...   \n",
       "\n",
       "           movie_name                                              genre  \\\n",
       "0          Taxi Blues  {\"/m/07s9rl0\": \"Drama\", \"/m/03q4nz\": \"World ci...   \n",
       "1    The Hunger Games  {\"/m/03btsm8\": \"Action/Adventure\", \"/m/06n90\":...   \n",
       "2          Narasimham  {\"/m/04t36\": \"Musical\", \"/m/02kdv5l\": \"Action\"...   \n",
       "3  The Lemon Drop Kid  {\"/m/06qm3\": \"Screwball comedy\", \"/m/01z4y\": \"...   \n",
       "4   A Cry in the Dark  {\"/m/0lsxr\": \"Crime Fiction\", \"/m/07s9rl0\": \"D...   \n",
       "\n",
       "                                           genre_new  \\\n",
       "0                              [Drama, World cinema]   \n",
       "1  [Action/Adventure, Science Fiction, Action, Dr...   \n",
       "2                [Musical, Action, Drama, Bollywood]   \n",
       "3                                           [Comedy]   \n",
       "4               [Crime Fiction, Drama, World cinema]   \n",
       "\n",
       "                                                plot  \n",
       "0  shlykov hard working taxi driver lyosha saxoph...  \n",
       "1  nation panem consists wealthy capitol twelve p...  \n",
       "2  poovalli induchoodan sentenced six year prison...  \n",
       "3  lemon drop kid new york city swindler illegall...  \n",
       "4  seventh day adventist church pastor michael ch...  "
      ]
     },
     "execution_count": 29,
     "metadata": {},
     "output_type": "execute_result"
    }
   ],
   "source": [
    "data['plot']= data['plot'].apply(lambda x: lemma_plot(x))\n",
    "data.head()"
   ]
  },
  {
   "cell_type": "code",
   "execution_count": 30,
   "id": "7cc51567-5594-442e-b749-44639e520fae",
   "metadata": {},
   "outputs": [],
   "source": [
    "# saving the data\n",
    "data.to_csv('dataset1.csv')"
   ]
  },
  {
   "cell_type": "markdown",
   "id": "847ef52d-7ff4-4fe1-b939-4b3bc6b2fc75",
   "metadata": {},
   "source": [
    "# Feature Engineering and Model Development"
   ]
  },
  {
   "cell_type": "code",
   "execution_count": 31,
   "id": "8f07195b-c25e-4843-9f96-4a52dd2ec06b",
   "metadata": {},
   "outputs": [
    {
     "data": {
      "text/html": [
       "<div>\n",
       "<style scoped>\n",
       "    .dataframe tbody tr th:only-of-type {\n",
       "        vertical-align: middle;\n",
       "    }\n",
       "\n",
       "    .dataframe tbody tr th {\n",
       "        vertical-align: top;\n",
       "    }\n",
       "\n",
       "    .dataframe thead th {\n",
       "        text-align: right;\n",
       "    }\n",
       "</style>\n",
       "<table border=\"1\" class=\"dataframe\">\n",
       "  <thead>\n",
       "    <tr style=\"text-align: right;\">\n",
       "      <th></th>\n",
       "      <th>Unnamed: 0</th>\n",
       "      <th>movie_id</th>\n",
       "      <th>synopsis</th>\n",
       "      <th>movie_name</th>\n",
       "      <th>genre</th>\n",
       "      <th>genre_new</th>\n",
       "      <th>plot</th>\n",
       "    </tr>\n",
       "  </thead>\n",
       "  <tbody>\n",
       "    <tr>\n",
       "      <th>0</th>\n",
       "      <td>0</td>\n",
       "      <td>23890098</td>\n",
       "      <td>Shlykov, a hard-working taxi driver and Lyosha...</td>\n",
       "      <td>Taxi Blues</td>\n",
       "      <td>{\"/m/07s9rl0\": \"Drama\", \"/m/03q4nz\": \"World ci...</td>\n",
       "      <td>['Drama', 'World cinema']</td>\n",
       "      <td>shlykov hard working taxi driver lyosha saxoph...</td>\n",
       "    </tr>\n",
       "    <tr>\n",
       "      <th>1</th>\n",
       "      <td>1</td>\n",
       "      <td>31186339</td>\n",
       "      <td>The nation of Panem consists of a wealthy Capi...</td>\n",
       "      <td>The Hunger Games</td>\n",
       "      <td>{\"/m/03btsm8\": \"Action/Adventure\", \"/m/06n90\":...</td>\n",
       "      <td>['Action/Adventure', 'Science Fiction', 'Actio...</td>\n",
       "      <td>nation panem consists wealthy capitol twelve p...</td>\n",
       "    </tr>\n",
       "    <tr>\n",
       "      <th>2</th>\n",
       "      <td>2</td>\n",
       "      <td>20663735</td>\n",
       "      <td>Poovalli Induchoodan  is sentenced for six yea...</td>\n",
       "      <td>Narasimham</td>\n",
       "      <td>{\"/m/04t36\": \"Musical\", \"/m/02kdv5l\": \"Action\"...</td>\n",
       "      <td>['Musical', 'Action', 'Drama', 'Bollywood']</td>\n",
       "      <td>poovalli induchoodan sentenced six year prison...</td>\n",
       "    </tr>\n",
       "    <tr>\n",
       "      <th>3</th>\n",
       "      <td>3</td>\n",
       "      <td>2231378</td>\n",
       "      <td>The Lemon Drop Kid , a New York City swindler,...</td>\n",
       "      <td>The Lemon Drop Kid</td>\n",
       "      <td>{\"/m/06qm3\": \"Screwball comedy\", \"/m/01z4y\": \"...</td>\n",
       "      <td>['Comedy']</td>\n",
       "      <td>lemon drop kid new york city swindler illegall...</td>\n",
       "    </tr>\n",
       "    <tr>\n",
       "      <th>4</th>\n",
       "      <td>4</td>\n",
       "      <td>595909</td>\n",
       "      <td>Seventh-day Adventist Church pastor Michael Ch...</td>\n",
       "      <td>A Cry in the Dark</td>\n",
       "      <td>{\"/m/0lsxr\": \"Crime Fiction\", \"/m/07s9rl0\": \"D...</td>\n",
       "      <td>['Crime Fiction', 'Drama', 'World cinema']</td>\n",
       "      <td>seventh day adventist church pastor michael ch...</td>\n",
       "    </tr>\n",
       "  </tbody>\n",
       "</table>\n",
       "</div>"
      ],
      "text/plain": [
       "   Unnamed: 0  movie_id                                           synopsis  \\\n",
       "0           0  23890098  Shlykov, a hard-working taxi driver and Lyosha...   \n",
       "1           1  31186339  The nation of Panem consists of a wealthy Capi...   \n",
       "2           2  20663735  Poovalli Induchoodan  is sentenced for six yea...   \n",
       "3           3   2231378  The Lemon Drop Kid , a New York City swindler,...   \n",
       "4           4    595909  Seventh-day Adventist Church pastor Michael Ch...   \n",
       "\n",
       "           movie_name                                              genre  \\\n",
       "0          Taxi Blues  {\"/m/07s9rl0\": \"Drama\", \"/m/03q4nz\": \"World ci...   \n",
       "1    The Hunger Games  {\"/m/03btsm8\": \"Action/Adventure\", \"/m/06n90\":...   \n",
       "2          Narasimham  {\"/m/04t36\": \"Musical\", \"/m/02kdv5l\": \"Action\"...   \n",
       "3  The Lemon Drop Kid  {\"/m/06qm3\": \"Screwball comedy\", \"/m/01z4y\": \"...   \n",
       "4   A Cry in the Dark  {\"/m/0lsxr\": \"Crime Fiction\", \"/m/07s9rl0\": \"D...   \n",
       "\n",
       "                                           genre_new  \\\n",
       "0                          ['Drama', 'World cinema']   \n",
       "1  ['Action/Adventure', 'Science Fiction', 'Actio...   \n",
       "2        ['Musical', 'Action', 'Drama', 'Bollywood']   \n",
       "3                                         ['Comedy']   \n",
       "4         ['Crime Fiction', 'Drama', 'World cinema']   \n",
       "\n",
       "                                                plot  \n",
       "0  shlykov hard working taxi driver lyosha saxoph...  \n",
       "1  nation panem consists wealthy capitol twelve p...  \n",
       "2  poovalli induchoodan sentenced six year prison...  \n",
       "3  lemon drop kid new york city swindler illegall...  \n",
       "4  seventh day adventist church pastor michael ch...  "
      ]
     },
     "execution_count": 31,
     "metadata": {},
     "output_type": "execute_result"
    }
   ],
   "source": [
    "data = pd.read_csv('dataset1.csv')\n",
    "data.head()"
   ]
  },
  {
   "cell_type": "markdown",
   "id": "ae31b561-9cc1-4b51-8b83-644036ab40db",
   "metadata": {},
   "source": [
    "### Coverting string to list"
   ]
  },
  {
   "cell_type": "code",
   "execution_count": 32,
   "id": "1e57cc80-6a74-4bab-a5ae-593da7cb7904",
   "metadata": {},
   "outputs": [],
   "source": [
    "data['genre_new']= data['genre_new'].apply(lambda x: literal_eval(x))"
   ]
  },
  {
   "cell_type": "markdown",
   "id": "fa518855-7c54-4802-9b9d-6f25c4ea2753",
   "metadata": {},
   "source": [
    "### Quantifying the Labels"
   ]
  },
  {
   "cell_type": "code",
   "execution_count": 33,
   "id": "65364d06-aa3c-4765-b01d-d12d04b9934d",
   "metadata": {},
   "outputs": [
    {
     "data": {
      "text/plain": [
       "array(['Action', 'Action/Adventure', 'Adventure', 'Animation',\n",
       "       'Bollywood', 'Comedy', 'Crime Fiction', 'Crime Thriller',\n",
       "       'Documentary', 'Drama', 'Family Film', 'Fantasy', 'Horror',\n",
       "       'Japanese Movies', 'Musical', 'Mystery', 'Period piece',\n",
       "       'Psychological thriller', 'Romance Film', 'Romantic comedy',\n",
       "       'Romantic drama', 'Science Fiction', 'Short Film', 'Thriller',\n",
       "       'War film', 'Western', 'World cinema'], dtype=object)"
      ]
     },
     "execution_count": 33,
     "metadata": {},
     "output_type": "execute_result"
    }
   ],
   "source": [
    "binarizer = MultiLabelBinarizer()\n",
    "binarizer.fit(data['genre_new'])\n",
    "y = binarizer.transform(data['genre_new'])\n",
    "binarizer.classes_"
   ]
  },
  {
   "cell_type": "markdown",
   "id": "b61defeb-c63d-49fe-a166-f38dd05b97fd",
   "metadata": {},
   "source": [
    "### Tf-idf Vectorization"
   ]
  },
  {
   "cell_type": "code",
   "execution_count": 34,
   "id": "e744c378-b8b6-4f8d-8f73-80b5dd70cbda",
   "metadata": {},
   "outputs": [
    {
     "name": "stdout",
     "output_type": "stream",
     "text": [
      "(40103, 126088) (40103, 27)\n"
     ]
    }
   ],
   "source": [
    "tfidf = TfidfVectorizer()\n",
    "x_tfidf = tfidf.fit_transform(data['plot'])\n",
    "print(x_tfidf.shape, y.shape )"
   ]
  },
  {
   "cell_type": "markdown",
   "id": "bf34f7d6-d84a-4f03-ad24-9efbd37ce169",
   "metadata": {},
   "source": [
    "### Count Vecotrization"
   ]
  },
  {
   "cell_type": "code",
   "execution_count": 35,
   "id": "dcd8a921-e8f3-4cef-99da-89e92d111edc",
   "metadata": {},
   "outputs": [
    {
     "name": "stdout",
     "output_type": "stream",
     "text": [
      "(40103, 126088) (40103, 27)\n"
     ]
    }
   ],
   "source": [
    "bow_vectorizer = CountVectorizer()\n",
    "x_bow = bow_vectorizer.fit_transform(data['plot'])\n",
    "print(x_bow.shape, y.shape)"
   ]
  },
  {
   "cell_type": "markdown",
   "id": "962322f0-ee7d-4458-9a34-14bf96c10e97",
   "metadata": {},
   "source": [
    "### Tf-idf models with full dataset"
   ]
  },
  {
   "cell_type": "code",
   "execution_count": 36,
   "id": "2847a65a-244b-4217-9205-6bb6279994f1",
   "metadata": {},
   "outputs": [],
   "source": [
    "x_train, x_test, y_train, y_test = train_test_split(x_tfidf,y,test_size=0.2,random_state=42)\n"
   ]
  },
  {
   "cell_type": "markdown",
   "id": "497a8428-4cb1-4634-99a7-75bb918e271d",
   "metadata": {},
   "source": [
    "### Using Logistic Regression"
   ]
  },
  {
   "cell_type": "code",
   "execution_count": 37,
   "id": "c95a4895-57dd-42ea-aa22-1121af4274f8",
   "metadata": {},
   "outputs": [
    {
     "name": "stdout",
     "output_type": "stream",
     "text": [
      "                        precision    recall  f1-score   support\n",
      "\n",
      "                Action       0.75      0.21      0.33      1201\n",
      "      Action/Adventure       0.59      0.07      0.13       731\n",
      "             Adventure       0.76      0.08      0.14       676\n",
      "             Animation       0.77      0.23      0.36       532\n",
      "             Bollywood       0.50      0.02      0.05       209\n",
      "                Comedy       0.75      0.30      0.43      2063\n",
      "         Crime Fiction       0.60      0.13      0.21       850\n",
      "        Crime Thriller       0.39      0.02      0.04       316\n",
      "           Documentary       0.94      0.13      0.23       256\n",
      "                 Drama       0.73      0.71      0.72      3827\n",
      "           Family Film       0.71      0.16      0.27       634\n",
      "               Fantasy       0.67      0.03      0.06       425\n",
      "                Horror       0.92      0.35      0.50       796\n",
      "       Japanese Movies       0.96      0.08      0.15       273\n",
      "               Musical       0.57      0.03      0.05       473\n",
      "               Mystery       0.68      0.05      0.09       413\n",
      "          Period piece       0.00      0.00      0.00       253\n",
      "Psychological thriller       1.00      0.00      0.01       219\n",
      "          Romance Film       0.67      0.19      0.29      1310\n",
      "       Romantic comedy       0.73      0.02      0.04       399\n",
      "        Romantic drama       0.36      0.01      0.02       504\n",
      "       Science Fiction       0.84      0.22      0.35       478\n",
      "            Short Film       0.92      0.34      0.49       678\n",
      "              Thriller       0.68      0.22      0.34      1267\n",
      "              War film       0.77      0.28      0.42       310\n",
      "               Western       0.91      0.15      0.26       200\n",
      "          World cinema       0.69      0.05      0.09      1035\n",
      "\n",
      "             micro avg       0.74      0.27      0.39     20328\n",
      "             macro avg       0.70      0.15      0.22     20328\n",
      "          weighted avg       0.71      0.27      0.34     20328\n",
      "           samples avg       0.52      0.33      0.37     20328\n",
      "\n"
     ]
    }
   ],
   "source": [
    "lr_tfidf = LogisticRegression()\n",
    "clf_tfidf = OneVsRestClassifier(lr_tfidf)\n",
    "clf_tfidf.fit(x_train,y_train)\n",
    "tfidf_pred = clf_tfidf.predict(x_test)\n",
    "print(classification_report(y_test, tfidf_pred, target_names = binarizer.classes_))"
   ]
  },
  {
   "cell_type": "markdown",
   "id": "8a909b7e-ace5-4dab-8aa1-66567a93fe6e",
   "metadata": {},
   "source": [
    "### Confusion Matrix"
   ]
  },
  {
   "cell_type": "code",
   "execution_count": 38,
   "id": "87a47347-9a43-4fa2-90f5-158554bd3454",
   "metadata": {},
   "outputs": [
    {
     "data": {
      "text/plain": [
       "Text(0.5, 1.0, 'Confusion Matrix')"
      ]
     },
     "execution_count": 38,
     "metadata": {},
     "output_type": "execute_result"
    },
    {
     "data": {
      "image/png": "[encoded data removed]",
      "text/plain": [
       "<Figure size 1600x1400 with 2 Axes>"
      ]
     },
     "metadata": {},
     "output_type": "display_data"
    }
   ],
   "source": [
    "y_pred = np.argmax(tfidf_pred, axis=1)\n",
    "y_true = np.argmax(y_test, axis=-1)\n",
    "cm = confusion_matrix(y_true, y_pred)\n",
    "\n",
    "labels = binarizer.classes_\n",
    "class_names=labels\n",
    "\n",
    "fig = plt.figure(figsize=(16,14))\n",
    "graph = plt.subplot()\n",
    "sns.heatmap(cm, annot=True, ax=graph, fmt='g')\n",
    "graph.set_xlabel('Predicted')\n",
    "graph.xaxis.set_label_position('bottom')\n",
    "plt.xticks(rotation=90)\n",
    "#graph.xaxis.set_tickables(class_names)\n",
    "graph.xaxis.tick_bottom()\n",
    "\n",
    "graph.set_ylabel('True')\n",
    "#graph.yaxis.set_tickables(class_names)\n",
    "plt.yticks(rotation=0)\n",
    "\n",
    "plt.title('Confusion Matrix')"
   ]
  },
  {
   "cell_type": "markdown",
   "id": "cff1bd62-4a5c-4325-b946-f5f0cabd05d2",
   "metadata": {},
   "source": [
    "### Decision Tree Classifier"
   ]
  },
  {
   "cell_type": "code",
   "execution_count": 39,
   "id": "7a2e1d98-cbd3-4d3a-a87d-2305fe8f9240",
   "metadata": {},
   "outputs": [
    {
     "name": "stdout",
     "output_type": "stream",
     "text": [
      "                        precision    recall  f1-score   support\n",
      "\n",
      "                Action       0.55      0.16      0.25      1201\n",
      "      Action/Adventure       0.43      0.12      0.19       731\n",
      "             Adventure       0.57      0.14      0.22       676\n",
      "             Animation       0.66      0.26      0.37       532\n",
      "             Bollywood       0.42      0.09      0.14       209\n",
      "                Comedy       0.58      0.08      0.14      2063\n",
      "         Crime Fiction       0.44      0.13      0.20       850\n",
      "        Crime Thriller       0.31      0.07      0.11       316\n",
      "           Documentary       0.62      0.32      0.42       256\n",
      "                 Drama       0.63      0.48      0.54      3827\n",
      "           Family Film       0.54      0.12      0.20       634\n",
      "               Fantasy       0.47      0.10      0.16       425\n",
      "                Horror       0.68      0.30      0.42       796\n",
      "       Japanese Movies       0.68      0.30      0.42       273\n",
      "               Musical       0.34      0.08      0.13       473\n",
      "               Mystery       0.28      0.06      0.10       413\n",
      "          Period piece       0.14      0.02      0.03       253\n",
      "Psychological thriller       0.19      0.03      0.05       219\n",
      "          Romance Film       0.48      0.20      0.28      1310\n",
      "       Romantic comedy       0.23      0.05      0.08       399\n",
      "        Romantic drama       0.18      0.02      0.04       504\n",
      "       Science Fiction       0.64      0.34      0.44       478\n",
      "            Short Film       0.84      0.23      0.36       678\n",
      "              Thriller       0.57      0.23      0.33      1267\n",
      "              War film       0.53      0.25      0.34       310\n",
      "               Western       0.72      0.34      0.47       200\n",
      "          World cinema       0.44      0.05      0.09      1035\n",
      "\n",
      "             micro avg       0.57      0.21      0.31     20328\n",
      "             macro avg       0.49      0.17      0.24     20328\n",
      "          weighted avg       0.53      0.21      0.29     20328\n",
      "           samples avg       0.37      0.24      0.26     20328\n",
      "\n"
     ]
    }
   ],
   "source": [
    "dt_tfidf = DecisionTreeClassifier(max_depth=8)\n",
    "clf_tfidf = OneVsRestClassifier(dt_tfidf)\n",
    "clf_tfidf.fit(x_train,y_train)\n",
    "tfidf_pred = clf_tfidf.predict(x_test)\n",
    "print(classification_report(y_test, tfidf_pred, target_names = binarizer.classes_))"
   ]
  },
  {
   "cell_type": "markdown",
   "id": "e19b25f3-8c2e-47cb-955b-8c9a0202c980",
   "metadata": {},
   "source": [
    "### Logistic Regression Using Bag of Words"
   ]
  },
  {
   "cell_type": "code",
   "execution_count": 40,
   "id": "3360dacc-7b07-4530-99b8-39e559bf8cec",
   "metadata": {},
   "outputs": [],
   "source": [
    "x_train, x_test, y_train, y_test = train_test_split(x_bow,y,test_size=0.2,random_state=42)"
   ]
  },
  {
   "cell_type": "code",
   "execution_count": 41,
   "id": "138a302e-7877-43ab-b526-e38dd07959e7",
   "metadata": {
    "scrolled": true
   },
   "outputs": [
    {
     "name": "stdout",
     "output_type": "stream",
     "text": [
      "                        precision    recall  f1-score   support\n",
      "\n",
      "                Action       0.52      0.42      0.47      1201\n",
      "      Action/Adventure       0.47      0.35      0.40       731\n",
      "             Adventure       0.52      0.38      0.44       676\n",
      "             Animation       0.65      0.45      0.54       532\n",
      "             Bollywood       0.34      0.22      0.26       209\n",
      "                Comedy       0.56      0.49      0.52      2063\n",
      "         Crime Fiction       0.47      0.36      0.41       850\n",
      "        Crime Thriller       0.30      0.23      0.26       316\n",
      "           Documentary       0.75      0.44      0.55       256\n",
      "                 Drama       0.68      0.67      0.68      3827\n",
      "           Family Film       0.51      0.38      0.44       634\n",
      "               Fantasy       0.49      0.30      0.37       425\n",
      "                Horror       0.78      0.62      0.69       796\n",
      "       Japanese Movies       0.64      0.38      0.48       273\n",
      "               Musical       0.34      0.20      0.25       473\n",
      "               Mystery       0.37      0.27      0.31       413\n",
      "          Period piece       0.38      0.20      0.26       253\n",
      "Psychological thriller       0.30      0.18      0.23       219\n",
      "          Romance Film       0.47      0.38      0.42      1310\n",
      "       Romantic comedy       0.39      0.25      0.31       399\n",
      "        Romantic drama       0.26      0.16      0.20       504\n",
      "       Science Fiction       0.62      0.47      0.54       478\n",
      "            Short Film       0.68      0.52      0.59       678\n",
      "              Thriller       0.48      0.40      0.44      1267\n",
      "              War film       0.64      0.50      0.56       310\n",
      "               Western       0.77      0.56      0.65       200\n",
      "          World cinema       0.38      0.28      0.32      1035\n",
      "\n",
      "             micro avg       0.55      0.44      0.49     20328\n",
      "             macro avg       0.51      0.37      0.43     20328\n",
      "          weighted avg       0.54      0.44      0.48     20328\n",
      "           samples avg       0.52      0.48      0.45     20328\n",
      "\n"
     ]
    }
   ],
   "source": [
    "lr_bow = LogisticRegression()\n",
    "clf_bow = OneVsRestClassifier(lr_bow)\n",
    "clf_bow.fit(x_train,y_train)\n",
    "bow_pred = clf_bow.predict(x_test)\n",
    "print(classification_report(y_test, bow_pred, target_names = binarizer.classes_))"
   ]
  },
  {
   "cell_type": "markdown",
   "id": "5597207a-dc0b-4026-acb2-b90725fed356",
   "metadata": {},
   "source": [
    "As the classification reports of all models show that using Logistic Regression with Tf-idf has better classification report, we will further enhance and use it."
   ]
  },
  {
   "cell_type": "markdown",
   "id": "79ba616c-3d52-4af0-89da-00f5f2bd2e0d",
   "metadata": {},
   "source": [
    "### Dimensionality Reduction using SVD for Logistic Regression"
   ]
  },
  {
   "cell_type": "code",
   "execution_count": 42,
   "id": "180723a1-8feb-470f-8251-780f644f66d8",
   "metadata": {},
   "outputs": [],
   "source": [
    "svd = TruncatedSVD(n_components=350, n_iter=7, random_state=42)\n",
    "svd.fit(x_tfidf)\n",
    "svd_vec = svd.transform(x_tfidf)"
   ]
  },
  {
   "cell_type": "code",
   "execution_count": 43,
   "id": "dce1562d-009f-4616-96ba-0635382af69e",
   "metadata": {},
   "outputs": [
    {
     "name": "stdout",
     "output_type": "stream",
     "text": [
      "                        precision    recall  f1-score   support\n",
      "\n",
      "                Action       0.72      0.19      0.31      1201\n",
      "      Action/Adventure       0.51      0.07      0.12       731\n",
      "             Adventure       0.74      0.06      0.12       676\n",
      "             Animation       0.76      0.23      0.35       532\n",
      "             Bollywood       0.64      0.03      0.06       209\n",
      "                Comedy       0.68      0.25      0.36      2063\n",
      "         Crime Fiction       0.59      0.13      0.22       850\n",
      "        Crime Thriller       0.44      0.02      0.04       316\n",
      "           Documentary       0.94      0.11      0.20       256\n",
      "                 Drama       0.71      0.68      0.69      3827\n",
      "           Family Film       0.69      0.15      0.25       634\n",
      "               Fantasy       0.73      0.04      0.07       425\n",
      "                Horror       0.88      0.33      0.48       796\n",
      "       Japanese Movies       0.88      0.05      0.10       273\n",
      "               Musical       0.48      0.03      0.05       473\n",
      "               Mystery       0.67      0.05      0.09       413\n",
      "          Period piece       0.50      0.00      0.01       253\n",
      "Psychological thriller       1.00      0.00      0.01       219\n",
      "          Romance Film       0.61      0.17      0.27      1310\n",
      "       Romantic comedy       0.70      0.02      0.03       399\n",
      "        Romantic drama       0.33      0.01      0.02       504\n",
      "       Science Fiction       0.80      0.22      0.34       478\n",
      "            Short Film       0.88      0.34      0.49       678\n",
      "              Thriller       0.65      0.21      0.31      1267\n",
      "              War film       0.75      0.27      0.40       310\n",
      "               Western       0.82      0.14      0.24       200\n",
      "          World cinema       0.57      0.04      0.07      1035\n",
      "\n",
      "             micro avg       0.71      0.25      0.37     20328\n",
      "             macro avg       0.69      0.14      0.21     20328\n",
      "          weighted avg       0.68      0.25      0.32     20328\n",
      "           samples avg       0.48      0.31      0.35     20328\n",
      "\n"
     ]
    }
   ],
   "source": [
    "x_train, x_test, y_train, y_test = train_test_split(svd_vec, y, test_size=0.2, random_state=42)\n",
    "lr_tfidfsvd = LogisticRegression()\n",
    "clf_tfidfsvd = OneVsRestClassifier(lr_tfidfsvd)\n",
    "clf_tfidfsvd.fit(x_train,y_train)\n",
    "tfidfsvd_pred = clf_tfidfsvd.predict(x_test)\n",
    "print(classification_report(y_test, tfidfsvd_pred, target_names = binarizer.classes_))"
   ]
  },
  {
   "cell_type": "code",
   "execution_count": 44,
   "id": "acadc902-4ab8-44e9-b5df-837c49648178",
   "metadata": {},
   "outputs": [
    {
     "data": {
      "text/html": [
       "<div>\n",
       "<style scoped>\n",
       "    .dataframe tbody tr th:only-of-type {\n",
       "        vertical-align: middle;\n",
       "    }\n",
       "\n",
       "    .dataframe tbody tr th {\n",
       "        vertical-align: top;\n",
       "    }\n",
       "\n",
       "    .dataframe thead th {\n",
       "        text-align: right;\n",
       "    }\n",
       "</style>\n",
       "<table border=\"1\" class=\"dataframe\">\n",
       "  <thead>\n",
       "    <tr style=\"text-align: right;\">\n",
       "      <th></th>\n",
       "      <th>Unnamed: 0</th>\n",
       "      <th>movie_id</th>\n",
       "      <th>synopsis</th>\n",
       "      <th>movie_name</th>\n",
       "      <th>genre</th>\n",
       "      <th>genre_new</th>\n",
       "      <th>plot</th>\n",
       "    </tr>\n",
       "  </thead>\n",
       "  <tbody>\n",
       "    <tr>\n",
       "      <th>37930</th>\n",
       "      <td>39930</td>\n",
       "      <td>35004788</td>\n",
       "      <td>This documentary connects two artistic traject...</td>\n",
       "      <td>Die Tunisreise</td>\n",
       "      <td>{\"/m/0jtdp\": \"Documentary\"}</td>\n",
       "      <td>[Documentary]</td>\n",
       "      <td>documentary connects two artistic trajectory b...</td>\n",
       "    </tr>\n",
       "    <tr>\n",
       "      <th>9758</th>\n",
       "      <td>10297</td>\n",
       "      <td>14930873</td>\n",
       "      <td>The film follows the recently demobilized Serg...</td>\n",
       "      <td>I am Twenty</td>\n",
       "      <td>{\"/m/07s9rl0\": \"Drama\"}</td>\n",
       "      <td>[Drama]</td>\n",
       "      <td>film follows recently demobilized sergei young...</td>\n",
       "    </tr>\n",
       "    <tr>\n",
       "      <th>31890</th>\n",
       "      <td>33616</td>\n",
       "      <td>2511602</td>\n",
       "      <td>The film opens with John Dolittle as a child t...</td>\n",
       "      <td>Dr. Dolittle</td>\n",
       "      <td>{\"/m/0hqxf\": \"Family Film\", \"/m/0hj3n2s\": \"Fan...</td>\n",
       "      <td>[Family Film, Comedy]</td>\n",
       "      <td>film open john dolittle child talking dog asks...</td>\n",
       "    </tr>\n",
       "    <tr>\n",
       "      <th>22107</th>\n",
       "      <td>23304</td>\n",
       "      <td>16166532</td>\n",
       "      <td>Selvarasu  is the head of the family and his t...</td>\n",
       "      <td>Samudhiram</td>\n",
       "      <td>{\"/m/07s9rl0\": \"Drama\", \"/m/03q4nz\": \"World ci...</td>\n",
       "      <td>[Drama, World cinema]</td>\n",
       "      <td>selvarasu head family two brother ready give l...</td>\n",
       "    </tr>\n",
       "    <tr>\n",
       "      <th>21915</th>\n",
       "      <td>23103</td>\n",
       "      <td>2918399</td>\n",
       "      <td>The story is told from the point of view of Am...</td>\n",
       "      <td>Virrudh... Family Comes First</td>\n",
       "      <td>{\"/m/07s9rl0\": \"Drama\", \"/m/01chg\": \"Bollywood...</td>\n",
       "      <td>[Drama, Bollywood, World cinema]</td>\n",
       "      <td>story told point view amar amar son vidyadhar ...</td>\n",
       "    </tr>\n",
       "  </tbody>\n",
       "</table>\n",
       "</div>"
      ],
      "text/plain": [
       "       Unnamed: 0  movie_id  \\\n",
       "37930       39930  35004788   \n",
       "9758        10297  14930873   \n",
       "31890       33616   2511602   \n",
       "22107       23304  16166532   \n",
       "21915       23103   2918399   \n",
       "\n",
       "                                                synopsis  \\\n",
       "37930  This documentary connects two artistic traject...   \n",
       "9758   The film follows the recently demobilized Serg...   \n",
       "31890  The film opens with John Dolittle as a child t...   \n",
       "22107  Selvarasu  is the head of the family and his t...   \n",
       "21915  The story is told from the point of view of Am...   \n",
       "\n",
       "                          movie_name  \\\n",
       "37930                 Die Tunisreise   \n",
       "9758                     I am Twenty   \n",
       "31890                   Dr. Dolittle   \n",
       "22107                     Samudhiram   \n",
       "21915  Virrudh... Family Comes First   \n",
       "\n",
       "                                                   genre  \\\n",
       "37930                        {\"/m/0jtdp\": \"Documentary\"}   \n",
       "9758                             {\"/m/07s9rl0\": \"Drama\"}   \n",
       "31890  {\"/m/0hqxf\": \"Family Film\", \"/m/0hj3n2s\": \"Fan...   \n",
       "22107  {\"/m/07s9rl0\": \"Drama\", \"/m/03q4nz\": \"World ci...   \n",
       "21915  {\"/m/07s9rl0\": \"Drama\", \"/m/01chg\": \"Bollywood...   \n",
       "\n",
       "                              genre_new  \\\n",
       "37930                     [Documentary]   \n",
       "9758                            [Drama]   \n",
       "31890             [Family Film, Comedy]   \n",
       "22107             [Drama, World cinema]   \n",
       "21915  [Drama, Bollywood, World cinema]   \n",
       "\n",
       "                                                    plot  \n",
       "37930  documentary connects two artistic trajectory b...  \n",
       "9758   film follows recently demobilized sergei young...  \n",
       "31890  film open john dolittle child talking dog asks...  \n",
       "22107  selvarasu head family two brother ready give l...  \n",
       "21915  story told point view amar amar son vidyadhar ...  "
      ]
     },
     "execution_count": 44,
     "metadata": {},
     "output_type": "execute_result"
    }
   ],
   "source": [
    "data1 = data.sample(frac=0.1)\n",
    "data1.head()"
   ]
  },
  {
   "cell_type": "code",
   "execution_count": 45,
   "id": "4b18d2ed-c841-4518-a91d-8e419d64577a",
   "metadata": {},
   "outputs": [
    {
     "data": {
      "text/plain": [
       "array([[0, 0, 0, ..., 0, 0, 0],\n",
       "       [0, 0, 0, ..., 0, 0, 0],\n",
       "       [0, 0, 0, ..., 0, 0, 0],\n",
       "       ...,\n",
       "       [0, 0, 0, ..., 0, 0, 0],\n",
       "       [0, 0, 0, ..., 0, 0, 0],\n",
       "       [0, 0, 0, ..., 0, 0, 0]])"
      ]
     },
     "execution_count": 45,
     "metadata": {},
     "output_type": "execute_result"
    }
   ],
   "source": [
    "binarizer1 = MultiLabelBinarizer()\n",
    "binarizer1.fit(data1['genre_new'])\n",
    "y1 = binarizer1.transform(data1['genre_new'])\n",
    "y1"
   ]
  },
  {
   "cell_type": "markdown",
   "id": "8473cbce-f77d-40c5-b789-905ce8bd07ea",
   "metadata": {},
   "source": [
    "### Dimensionality Reduction Using SVD for BoW"
   ]
  },
  {
   "cell_type": "code",
   "execution_count": 46,
   "id": "6e7c6b79-8a0b-49df-bf64-84c38e6fbf12",
   "metadata": {},
   "outputs": [],
   "source": [
    "svd = TruncatedSVD(n_components=350, n_iter=7, random_state=42)\n",
    "svd.fit(x_bow)\n",
    "svd_vec = svd.transform(x_bow)"
   ]
  },
  {
   "cell_type": "code",
   "execution_count": 47,
   "id": "4e9b2403-cd86-465c-8bcf-385ad0d30122",
   "metadata": {},
   "outputs": [],
   "source": [
    "x_train, x_test, y_train, y_test = train_test_split(svd_vec,y,test_size=0.2,random_state=42)"
   ]
  },
  {
   "cell_type": "code",
   "execution_count": 48,
   "id": "ae390575-abe9-4766-8839-1177b2518d2c",
   "metadata": {},
   "outputs": [
    {
     "name": "stdout",
     "output_type": "stream",
     "text": [
      "                        precision    recall  f1-score   support\n",
      "\n",
      "                Action       0.65      0.25      0.36      1201\n",
      "      Action/Adventure       0.57      0.20      0.30       731\n",
      "             Adventure       0.62      0.24      0.34       676\n",
      "             Animation       0.58      0.28      0.38       532\n",
      "             Bollywood       0.40      0.16      0.23       209\n",
      "                Comedy       0.64      0.22      0.33      2063\n",
      "         Crime Fiction       0.61      0.22      0.32       850\n",
      "        Crime Thriller       0.33      0.10      0.15       316\n",
      "           Documentary       0.60      0.23      0.33       256\n",
      "                 Drama       0.70      0.62      0.66      3827\n",
      "           Family Film       0.65      0.26      0.37       634\n",
      "               Fantasy       0.57      0.20      0.29       425\n",
      "                Horror       0.74      0.40      0.52       796\n",
      "       Japanese Movies       0.49      0.13      0.20       273\n",
      "               Musical       0.47      0.12      0.19       473\n",
      "               Mystery       0.41      0.11      0.17       413\n",
      "          Period piece       0.34      0.08      0.12       253\n",
      "Psychological thriller       0.21      0.07      0.10       219\n",
      "          Romance Film       0.63      0.24      0.35      1310\n",
      "       Romantic comedy       0.41      0.11      0.17       399\n",
      "        Romantic drama       0.37      0.09      0.14       504\n",
      "       Science Fiction       0.65      0.33      0.44       478\n",
      "            Short Film       0.78      0.27      0.40       678\n",
      "              Thriller       0.65      0.25      0.36      1267\n",
      "              War film       0.68      0.37      0.48       310\n",
      "               Western       0.62      0.37      0.46       200\n",
      "          World cinema       0.59      0.11      0.19      1035\n",
      "\n",
      "             micro avg       0.64      0.29      0.40     20328\n",
      "             macro avg       0.55      0.22      0.31     20328\n",
      "          weighted avg       0.61      0.29      0.38     20328\n",
      "           samples avg       0.43      0.32      0.33     20328\n",
      "\n"
     ]
    }
   ],
   "source": [
    "lr_bowsvd = LogisticRegression()\n",
    "clf_bowsvd = OneVsRestClassifier(lr_bowsvd)\n",
    "clf_bowsvd.fit(x_train,y_train)\n",
    "bowsvd_pred = clf_bowsvd.predict(x_test)\n",
    "print(classification_report(y_test, bowsvd_pred, target_names = binarizer.classes_))"
   ]
  },
  {
   "cell_type": "code",
   "execution_count": 50,
   "id": "19d15b8b-d93e-431e-93e1-2f021d2e1f07",
   "metadata": {},
   "outputs": [
    {
     "data": {
      "text/html": [
       "<div>\n",
       "<style scoped>\n",
       "    .dataframe tbody tr th:only-of-type {\n",
       "        vertical-align: middle;\n",
       "    }\n",
       "\n",
       "    .dataframe tbody tr th {\n",
       "        vertical-align: top;\n",
       "    }\n",
       "\n",
       "    .dataframe thead th {\n",
       "        text-align: right;\n",
       "    }\n",
       "</style>\n",
       "<table border=\"1\" class=\"dataframe\">\n",
       "  <thead>\n",
       "    <tr style=\"text-align: right;\">\n",
       "      <th></th>\n",
       "      <th>Unnamed: 0</th>\n",
       "      <th>movie_id</th>\n",
       "      <th>synopsis</th>\n",
       "      <th>movie_name</th>\n",
       "      <th>genre</th>\n",
       "      <th>genre_new</th>\n",
       "      <th>plot</th>\n",
       "    </tr>\n",
       "  </thead>\n",
       "  <tbody>\n",
       "    <tr>\n",
       "      <th>37824</th>\n",
       "      <td>39821</td>\n",
       "      <td>28526527</td>\n",
       "      <td>A young man is distraught after losing his fia...</td>\n",
       "      <td>Spellbound</td>\n",
       "      <td>{\"/m/07s9rl0\": \"Drama\"}</td>\n",
       "      <td>[Drama]</td>\n",
       "      <td>young man distraught losing fianc e terminal i...</td>\n",
       "    </tr>\n",
       "    <tr>\n",
       "      <th>3542</th>\n",
       "      <td>3718</td>\n",
       "      <td>22513789</td>\n",
       "      <td>Prince-heir Saliya gives up the throne to marr...</td>\n",
       "      <td>Asokamala</td>\n",
       "      <td>{\"/m/02p0szs\": \"Historical fiction\", \"/m/07s9r...</td>\n",
       "      <td>[Drama]</td>\n",
       "      <td>prince heir saliya give throne marry commoner ...</td>\n",
       "    </tr>\n",
       "    <tr>\n",
       "      <th>16183</th>\n",
       "      <td>17077</td>\n",
       "      <td>887164</td>\n",
       "      <td>In London, during the early 1900s, aspiring jo...</td>\n",
       "      <td>The Assassination Bureau</td>\n",
       "      <td>{\"/m/0lsxr\": \"Crime Fiction\", \"/m/01jfsb\": \"Th...</td>\n",
       "      <td>[Crime Fiction, Thriller, Action/Adventure, Co...</td>\n",
       "      <td>london early aspiring journalist woman right c...</td>\n",
       "    </tr>\n",
       "    <tr>\n",
       "      <th>9423</th>\n",
       "      <td>9940</td>\n",
       "      <td>417479</td>\n",
       "      <td>La Nuit Américaine chronicles the production o...</td>\n",
       "      <td>Day for Night</td>\n",
       "      <td>{\"/m/01t_vv\": \"Comedy-drama\", \"/m/02l7c8\": \"Ro...</td>\n",
       "      <td>[Romance Film, Drama, Comedy, World cinema]</td>\n",
       "      <td>la nuit ricaine chronicle production je vous p...</td>\n",
       "    </tr>\n",
       "    <tr>\n",
       "      <th>26549</th>\n",
       "      <td>27978</td>\n",
       "      <td>10933452</td>\n",
       "      <td>The leader of the Kong Tung clan is Yen Chan Y...</td>\n",
       "      <td>Unbeaten 28</td>\n",
       "      <td>{\"/m/03btsm8\": \"Action/Adventure\", \"/m/04t2t\":...</td>\n",
       "      <td>[Action/Adventure, World cinema]</td>\n",
       "      <td>leader kong tung clan yen chan ying ruthless w...</td>\n",
       "    </tr>\n",
       "  </tbody>\n",
       "</table>\n",
       "</div>"
      ],
      "text/plain": [
       "       Unnamed: 0  movie_id  \\\n",
       "37824       39821  28526527   \n",
       "3542         3718  22513789   \n",
       "16183       17077    887164   \n",
       "9423         9940    417479   \n",
       "26549       27978  10933452   \n",
       "\n",
       "                                                synopsis  \\\n",
       "37824  A young man is distraught after losing his fia...   \n",
       "3542   Prince-heir Saliya gives up the throne to marr...   \n",
       "16183  In London, during the early 1900s, aspiring jo...   \n",
       "9423   La Nuit Américaine chronicles the production o...   \n",
       "26549  The leader of the Kong Tung clan is Yen Chan Y...   \n",
       "\n",
       "                     movie_name  \\\n",
       "37824                Spellbound   \n",
       "3542                  Asokamala   \n",
       "16183  The Assassination Bureau   \n",
       "9423              Day for Night   \n",
       "26549               Unbeaten 28   \n",
       "\n",
       "                                                   genre  \\\n",
       "37824                            {\"/m/07s9rl0\": \"Drama\"}   \n",
       "3542   {\"/m/02p0szs\": \"Historical fiction\", \"/m/07s9r...   \n",
       "16183  {\"/m/0lsxr\": \"Crime Fiction\", \"/m/01jfsb\": \"Th...   \n",
       "9423   {\"/m/01t_vv\": \"Comedy-drama\", \"/m/02l7c8\": \"Ro...   \n",
       "26549  {\"/m/03btsm8\": \"Action/Adventure\", \"/m/04t2t\":...   \n",
       "\n",
       "                                               genre_new  \\\n",
       "37824                                            [Drama]   \n",
       "3542                                             [Drama]   \n",
       "16183  [Crime Fiction, Thriller, Action/Adventure, Co...   \n",
       "9423         [Romance Film, Drama, Comedy, World cinema]   \n",
       "26549                   [Action/Adventure, World cinema]   \n",
       "\n",
       "                                                    plot  \n",
       "37824  young man distraught losing fianc e terminal i...  \n",
       "3542   prince heir saliya give throne marry commoner ...  \n",
       "16183  london early aspiring journalist woman right c...  \n",
       "9423   la nuit ricaine chronicle production je vous p...  \n",
       "26549  leader kong tung clan yen chan ying ruthless w...  "
      ]
     },
     "execution_count": 50,
     "metadata": {},
     "output_type": "execute_result"
    }
   ],
   "source": [
    "data1 = data.sample(frac=0.1)\n",
    "data1.head()"
   ]
  },
  {
   "cell_type": "code",
   "execution_count": 51,
   "id": "13cfb6cd-8fb1-4eb9-ba19-1c39b812ae51",
   "metadata": {},
   "outputs": [
    {
     "data": {
      "text/plain": [
       "array([[0, 0, 0, ..., 0, 0, 1],\n",
       "       [1, 1, 0, ..., 0, 0, 0],\n",
       "       [1, 0, 0, ..., 0, 0, 0],\n",
       "       ...,\n",
       "       [0, 0, 0, ..., 0, 0, 0],\n",
       "       [0, 0, 0, ..., 0, 0, 0],\n",
       "       [0, 0, 0, ..., 0, 0, 0]])"
      ]
     },
     "execution_count": 51,
     "metadata": {},
     "output_type": "execute_result"
    }
   ],
   "source": [
    "binarizer = MultiLabelBinarizer()\n",
    "binarizer.fit(data['genre_new'])\n",
    "y = binarizer.transform(data['genre_new'])\n",
    "y"
   ]
  },
  {
   "cell_type": "code",
   "execution_count": 74,
   "id": "512d0548-d4b7-46ac-83db-dc082b16535b",
   "metadata": {},
   "outputs": [
    {
     "data": {
      "text/plain": [
       "array([[0, 0, 0, ..., 0, 0, 1],\n",
       "       [1, 1, 0, ..., 0, 0, 0],\n",
       "       [1, 0, 0, ..., 0, 0, 0],\n",
       "       ...,\n",
       "       [0, 0, 0, ..., 0, 0, 0],\n",
       "       [0, 0, 0, ..., 0, 0, 0],\n",
       "       [0, 0, 0, ..., 0, 0, 0]])"
      ]
     },
     "execution_count": 74,
     "metadata": {},
     "output_type": "execute_result"
    }
   ],
   "source": [
    "data = pd.read_csv('dataset1.csv')\n",
    "data['genre_new'] = data['genre_new'].apply(lambda x: literal_eval(x))\n",
    "\n",
    "binarizer= MultiLabelBinarizer()\n",
    "binarizer.fit(data['genre_new'])\n",
    "y = binarizer.transform(data['genre_new'])\n",
    "y"
   ]
  },
  {
   "cell_type": "markdown",
   "id": "ee17cc50-bc0e-494a-8c81-2f036ad6497e",
   "metadata": {},
   "source": [
    "# Checking Model"
   ]
  },
  {
   "cell_type": "code",
   "execution_count": 106,
   "id": "de6b3173-5ce9-46a7-af10-12744135a9b2",
   "metadata": {},
   "outputs": [
    {
     "name": "stdout",
     "output_type": "stream",
     "text": [
      "(40103, 126088) (40103, 27)\n"
     ]
    }
   ],
   "source": [
    "# BOW Vectorizer\n",
    "\n",
    "bow_vec = CountVectorizer()\n",
    "x_bow = bow_vec.fit_transform(data['plot'])\n",
    "print(x_bow.shape,y.shape)"
   ]
  },
  {
   "cell_type": "code",
   "execution_count": 107,
   "id": "a004aafc-31fb-4bfd-96c5-da151054e21d",
   "metadata": {},
   "outputs": [],
   "source": [
    "svd_bow = TruncatedSVD(n_components = 350, n_iter=7, random_state=42)\n",
    "svd_bow.fit(x_bow)\n",
    "svd_vec= svd_bow.transform(x_bow)"
   ]
  },
  {
   "cell_type": "code",
   "execution_count": 113,
   "id": "ab984368-746b-4e42-8c23-239b63d9cef5",
   "metadata": {},
   "outputs": [],
   "source": [
    "plot = \"\"\"In a future choked by dust storms and dying crops, Cooper, a former NASA pilot, tends his farm with his daughter Murph. Blight threatens humanity's survival. Cooper discovers a hidden NASA facility working on a last-ditch effort: a mission through a wormhole near Saturn to find a new home for humanity.Torn between responsibility and leaving his children behind, Cooper joins the crew. They travel to planets warped by the nearby black hole Gargantua. Plan A involves using data from one planet to develop a way for humanity to escape Earth's gravity. Plan B is finding a colony on a suitable planet.The team faces danger and sacrifice. Cooper, stranded on a watery world, uses gravity assist to launch a teammate towards data collection. Back on Earth, Murph becomes a scientist, deciphering cryptic messages Cooper sends through a wormhole anomaly in her childhood room.Time dilation near Gargantua throws a wrench in their plans. Years pass for the astronauts while mere hours tick by on Earth. We learn the wormhole itself was created by future humans using the knowledge from this mission, a bootstrap paradox. Cooper, trapped inside Gargantua, uses the \"tesseract\" (the fifth dimension) to communicate with Murph across time, giving her the final piece of the equation for Plan A. He escapes Gargantua and rejoins humanity, now living in space thanks to Murph's solution. Aged by time dilation, Cooper reunites with a dying Murph. Despite the hardships, humanity has a future among the stars, a testament to the enduring power of love and scientific exploration.\"\"\"\n"
   ]
  },
  {
   "cell_type": "code",
   "execution_count": 115,
   "id": "a88898d9-1d7c-4ab0-a885-e712f7a5390b",
   "metadata": {},
   "outputs": [
    {
     "data": {
      "text/plain": [
       "'future choked dust storm dying crop cooper former nasa pilot tends farm daughter murph blight threatens humanity survival cooper discovers hidden nasa facility working last ditch effort mission wormhole near saturn find new home humanity torn responsibility leaving child behind cooper join crew travel planet warped nearby black hole gargantua plan involves using data one planet develop way humanity escape earth gravity plan b finding colony suitable planet team face danger sacrifice cooper stranded watery world us gravity assist launch teammate towards data collection back earth murph becomes scientist deciphering cryptic message cooper sends wormhole anomaly childhood room time dilation near gargantua throw wrench plan year pas astronaut mere hour tick earth learn wormhole created future human using knowledge mission bootstrap paradox cooper trapped inside gargantua us tesseract fifth dimension communicate murph across time giving final piece equation plan escape gargantua rejoins humanity living space thanks murph solution aged time dilation cooper reunites dying murph despite hardship humanity future among star testament enduring power love scientific exploration'"
      ]
     },
     "execution_count": 115,
     "metadata": {},
     "output_type": "execute_result"
    }
   ],
   "source": [
    "\n",
    "text = filter_synopsis(plot)\n",
    "text = stopwords_filtering(text)\n",
    "text = lemma_plot(text)\n",
    "text"
   ]
  },
  {
   "cell_type": "code",
   "execution_count": 116,
   "id": "70737e68-9e50-422c-b935-1191a58484f7",
   "metadata": {},
   "outputs": [],
   "source": [
    "bow_text = bow_vec.transform([text])\n",
    "bow_svd_text = svd_bow.transform(bow_text)\n"
   ]
  },
  {
   "cell_type": "code",
   "execution_count": 117,
   "id": "517c7058-874a-4c83-903f-644facf6427c",
   "metadata": {},
   "outputs": [
    {
     "name": "stdout",
     "output_type": "stream",
     "text": [
      "Model Output [('Science Fiction',)]\n"
     ]
    }
   ],
   "source": [
    "print(\"Model Output\", binarizer.inverse_transform(clf_bowsvd.predict(bow_svd_text)))"
   ]
  },
  {
   "cell_type": "markdown",
   "id": "d05f4d94-15cb-4207-8afa-5d858ec79479",
   "metadata": {},
   "source": [
    "Hence, our model is predicting genre correctly"
   ]
  },
  {
   "cell_type": "code",
   "execution_count": null,
   "id": "67aef050-545f-4143-86c6-1d9f830bc6d7",
   "metadata": {},
   "outputs": [],
   "source": []
  }
 ],
 "metadata": {
  "kernelspec": {
   "display_name": "Python 3 (ipykernel)",
   "language": "python",
   "name": "python3"
  },
  "language_info": {
   "codemirror_mode": {
    "name": "ipython",
    "version": 3
   },
   "file_extension": ".py",
   "mimetype": "text/x-python",
   "name": "python",
   "nbconvert_exporter": "python",
   "pygments_lexer": "ipython3",
   "version": "3.7.0"
  }
 },
 "nbformat": 4,
 "nbformat_minor": 5
}
